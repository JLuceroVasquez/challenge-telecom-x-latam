{
  "nbformat": 4,
  "nbformat_minor": 0,
  "metadata": {
    "colab": {
      "provenance": [],
      "toc_visible": true,
      "include_colab_link": true
    },
    "kernelspec": {
      "name": "python3",
      "display_name": "Python 3"
    },
    "language_info": {
      "name": "python"
    }
  },
  "cells": [
    {
      "cell_type": "markdown",
      "metadata": {
        "id": "view-in-github",
        "colab_type": "text"
      },
      "source": [
        "<a href=\"https://colab.research.google.com/github/JLuceroVasquez/challenge-telecom-x-latam/blob/main/TelecomX_LATAM.ipynb\" target=\"_parent\"><img src=\"https://colab.research.google.com/assets/colab-badge.svg\" alt=\"Open In Colab\"/></a>"
      ]
    },
    {
      "cell_type": "markdown",
      "source": [
        "#Desafío TelecomX\n",
        "La empresa TelecomX enfrenta una alta tasa de cancelaciones y necesita comprender los factores que llevan a la pérdida de clientes.\n",
        "\n",
        "En este desafío se recopiló, procesó y analizó los datos, utilizando Python y sus principales bibliotecas para extraer información valiosa. A partir del análisis, la empresa podrá realizar modelos predictivos y desarrollar estrategias para reducir la evasión."
      ],
      "metadata": {
        "id": "GoO4oyZLIa4I"
      }
    },
    {
      "cell_type": "code",
      "source": [
        "#Se importan los requisitos\n",
        "import requests #Para leer los datos del API.\n",
        "import json #Para cargar los datos del API como una lista de diccionario.\n",
        "import pandas as pd #Para cargar los datos del API en una dataframe de Pandas.\n",
        "import numpy as np #Para configurar el tipo de datos en columnas.\n",
        "import matplotlib.pyplot as plt #Para graficar los diagramas de dispersión y línea de tendencia.\n",
        "import seaborn as sns #Para graficar los diagramas de boxplot y pointplot.\n",
        "import plotly.express as px #Para graficar los diagramas de líneas y barras."
      ],
      "metadata": {
        "id": "HhgLQTMNQnI6"
      },
      "execution_count": 1,
      "outputs": []
    },
    {
      "cell_type": "markdown",
      "source": [
        "##📌 Extracción"
      ],
      "metadata": {
        "id": "4foVEKhrlqcH"
      }
    },
    {
      "cell_type": "code",
      "source": [
        "#Se almacena la dirección URL de la API en una variable de alcance global.\n",
        "url = 'https://github.com/ingridcristh/challenge2-data-science-LATAM/raw/refs/heads/main/TelecomX_Data.json'\n",
        "\n",
        "#Cargamos la consulta a la API en la variable datos_churn.\n",
        "datos_churn = requests.get(url)\n",
        "type(datos_churn)"
      ],
      "metadata": {
        "id": "1--uPM88l7JH",
        "outputId": "f3cacfb0-8a0e-4162-e080-3a6141abf457",
        "colab": {
          "base_uri": "https://localhost:8080/",
          "height": 138
        }
      },
      "execution_count": 2,
      "outputs": [
        {
          "output_type": "execute_result",
          "data": {
            "text/plain": [
              "requests.models.Response"
            ],
            "text/html": [
              "<div style=\"max-width:800px; border: 1px solid var(--colab-border-color);\"><style>\n",
              "      pre.function-repr-contents {\n",
              "        overflow-x: auto;\n",
              "        padding: 8px 12px;\n",
              "        max-height: 500px;\n",
              "      }\n",
              "\n",
              "      pre.function-repr-contents.function-repr-contents-collapsed {\n",
              "        cursor: pointer;\n",
              "        max-height: 100px;\n",
              "      }\n",
              "    </style>\n",
              "    <pre style=\"white-space: initial; background:\n",
              "         var(--colab-secondary-surface-color); padding: 8px 12px;\n",
              "         border-bottom: 1px solid var(--colab-border-color);\"><b>requests.models.Response</b><br/>def __init__()</pre><pre class=\"function-repr-contents function-repr-contents-collapsed\" style=\"\"><a class=\"filepath\" style=\"display:none\" href=\"#\">/usr/local/lib/python3.11/dist-packages/requests/models.py</a>The :class:`Response &lt;Response&gt;` object, which contains a\n",
              "server&#x27;s response to an HTTP request.</pre>\n",
              "      <script>\n",
              "      if (google.colab.kernel.accessAllowed && google.colab.files && google.colab.files.view) {\n",
              "        for (const element of document.querySelectorAll('.filepath')) {\n",
              "          element.style.display = 'block'\n",
              "          element.onclick = (event) => {\n",
              "            event.preventDefault();\n",
              "            event.stopPropagation();\n",
              "            google.colab.files.view(element.textContent, 640);\n",
              "          };\n",
              "        }\n",
              "      }\n",
              "      for (const element of document.querySelectorAll('.function-repr-contents')) {\n",
              "        element.onclick = (event) => {\n",
              "          event.preventDefault();\n",
              "          event.stopPropagation();\n",
              "          element.classList.toggle('function-repr-contents-collapsed');\n",
              "        };\n",
              "      }\n",
              "      </script>\n",
              "      </div>"
            ]
          },
          "metadata": {},
          "execution_count": 2
        }
      ]
    },
    {
      "cell_type": "code",
      "source": [
        "#Convertimos los datos de la consulta en texto con el método text.\n",
        "#Almacenamos los datos leidos como texto en la variable resultado.\n",
        "resultado = json.loads(datos_churn.text)\n",
        "#La API transmite los datos en una lista de diccionario, que hemos cargado en la variable resultado.\n",
        "type(resultado)"
      ],
      "metadata": {
        "id": "GYpHYdq1guhO",
        "outputId": "bd344c0d-5fbd-46ad-ea3c-ff647f6dfc2c",
        "colab": {
          "base_uri": "https://localhost:8080/"
        }
      },
      "execution_count": 3,
      "outputs": [
        {
          "output_type": "execute_result",
          "data": {
            "text/plain": [
              "list"
            ]
          },
          "metadata": {},
          "execution_count": 3
        }
      ]
    },
    {
      "cell_type": "code",
      "source": [
        "#Convertimos los datos de la lista de diccionario en un dataframe con la función pd.DataFrame().\n",
        "df = pd.DataFrame(resultado)\n",
        "df.head()"
      ],
      "metadata": {
        "id": "FCg03ZgggyzX",
        "outputId": "3479cbf0-63ba-476e-eded-79b536221a3b",
        "colab": {
          "base_uri": "https://localhost:8080/",
          "height": 293
        }
      },
      "execution_count": 4,
      "outputs": [
        {
          "output_type": "execute_result",
          "data": {
            "text/plain": [
              "   customerID Churn                                           customer  \\\n",
              "0  0002-ORFBO    No  {'gender': 'Female', 'SeniorCitizen': 0, 'Part...   \n",
              "1  0003-MKNFE    No  {'gender': 'Male', 'SeniorCitizen': 0, 'Partne...   \n",
              "2  0004-TLHLJ   Yes  {'gender': 'Male', 'SeniorCitizen': 0, 'Partne...   \n",
              "3  0011-IGKFF   Yes  {'gender': 'Male', 'SeniorCitizen': 1, 'Partne...   \n",
              "4  0013-EXCHZ   Yes  {'gender': 'Female', 'SeniorCitizen': 1, 'Part...   \n",
              "\n",
              "                                             phone  \\\n",
              "0   {'PhoneService': 'Yes', 'MultipleLines': 'No'}   \n",
              "1  {'PhoneService': 'Yes', 'MultipleLines': 'Yes'}   \n",
              "2   {'PhoneService': 'Yes', 'MultipleLines': 'No'}   \n",
              "3   {'PhoneService': 'Yes', 'MultipleLines': 'No'}   \n",
              "4   {'PhoneService': 'Yes', 'MultipleLines': 'No'}   \n",
              "\n",
              "                                            internet  \\\n",
              "0  {'InternetService': 'DSL', 'OnlineSecurity': '...   \n",
              "1  {'InternetService': 'DSL', 'OnlineSecurity': '...   \n",
              "2  {'InternetService': 'Fiber optic', 'OnlineSecu...   \n",
              "3  {'InternetService': 'Fiber optic', 'OnlineSecu...   \n",
              "4  {'InternetService': 'Fiber optic', 'OnlineSecu...   \n",
              "\n",
              "                                             account  \n",
              "0  {'Contract': 'One year', 'PaperlessBilling': '...  \n",
              "1  {'Contract': 'Month-to-month', 'PaperlessBilli...  \n",
              "2  {'Contract': 'Month-to-month', 'PaperlessBilli...  \n",
              "3  {'Contract': 'Month-to-month', 'PaperlessBilli...  \n",
              "4  {'Contract': 'Month-to-month', 'PaperlessBilli...  "
            ],
            "text/html": [
              "\n",
              "  <div id=\"df-9f2b0ca1-4e7c-491b-8c73-c4415f75254d\" class=\"colab-df-container\">\n",
              "    <div>\n",
              "<style scoped>\n",
              "    .dataframe tbody tr th:only-of-type {\n",
              "        vertical-align: middle;\n",
              "    }\n",
              "\n",
              "    .dataframe tbody tr th {\n",
              "        vertical-align: top;\n",
              "    }\n",
              "\n",
              "    .dataframe thead th {\n",
              "        text-align: right;\n",
              "    }\n",
              "</style>\n",
              "<table border=\"1\" class=\"dataframe\">\n",
              "  <thead>\n",
              "    <tr style=\"text-align: right;\">\n",
              "      <th></th>\n",
              "      <th>customerID</th>\n",
              "      <th>Churn</th>\n",
              "      <th>customer</th>\n",
              "      <th>phone</th>\n",
              "      <th>internet</th>\n",
              "      <th>account</th>\n",
              "    </tr>\n",
              "  </thead>\n",
              "  <tbody>\n",
              "    <tr>\n",
              "      <th>0</th>\n",
              "      <td>0002-ORFBO</td>\n",
              "      <td>No</td>\n",
              "      <td>{'gender': 'Female', 'SeniorCitizen': 0, 'Part...</td>\n",
              "      <td>{'PhoneService': 'Yes', 'MultipleLines': 'No'}</td>\n",
              "      <td>{'InternetService': 'DSL', 'OnlineSecurity': '...</td>\n",
              "      <td>{'Contract': 'One year', 'PaperlessBilling': '...</td>\n",
              "    </tr>\n",
              "    <tr>\n",
              "      <th>1</th>\n",
              "      <td>0003-MKNFE</td>\n",
              "      <td>No</td>\n",
              "      <td>{'gender': 'Male', 'SeniorCitizen': 0, 'Partne...</td>\n",
              "      <td>{'PhoneService': 'Yes', 'MultipleLines': 'Yes'}</td>\n",
              "      <td>{'InternetService': 'DSL', 'OnlineSecurity': '...</td>\n",
              "      <td>{'Contract': 'Month-to-month', 'PaperlessBilli...</td>\n",
              "    </tr>\n",
              "    <tr>\n",
              "      <th>2</th>\n",
              "      <td>0004-TLHLJ</td>\n",
              "      <td>Yes</td>\n",
              "      <td>{'gender': 'Male', 'SeniorCitizen': 0, 'Partne...</td>\n",
              "      <td>{'PhoneService': 'Yes', 'MultipleLines': 'No'}</td>\n",
              "      <td>{'InternetService': 'Fiber optic', 'OnlineSecu...</td>\n",
              "      <td>{'Contract': 'Month-to-month', 'PaperlessBilli...</td>\n",
              "    </tr>\n",
              "    <tr>\n",
              "      <th>3</th>\n",
              "      <td>0011-IGKFF</td>\n",
              "      <td>Yes</td>\n",
              "      <td>{'gender': 'Male', 'SeniorCitizen': 1, 'Partne...</td>\n",
              "      <td>{'PhoneService': 'Yes', 'MultipleLines': 'No'}</td>\n",
              "      <td>{'InternetService': 'Fiber optic', 'OnlineSecu...</td>\n",
              "      <td>{'Contract': 'Month-to-month', 'PaperlessBilli...</td>\n",
              "    </tr>\n",
              "    <tr>\n",
              "      <th>4</th>\n",
              "      <td>0013-EXCHZ</td>\n",
              "      <td>Yes</td>\n",
              "      <td>{'gender': 'Female', 'SeniorCitizen': 1, 'Part...</td>\n",
              "      <td>{'PhoneService': 'Yes', 'MultipleLines': 'No'}</td>\n",
              "      <td>{'InternetService': 'Fiber optic', 'OnlineSecu...</td>\n",
              "      <td>{'Contract': 'Month-to-month', 'PaperlessBilli...</td>\n",
              "    </tr>\n",
              "  </tbody>\n",
              "</table>\n",
              "</div>\n",
              "    <div class=\"colab-df-buttons\">\n",
              "\n",
              "  <div class=\"colab-df-container\">\n",
              "    <button class=\"colab-df-convert\" onclick=\"convertToInteractive('df-9f2b0ca1-4e7c-491b-8c73-c4415f75254d')\"\n",
              "            title=\"Convert this dataframe to an interactive table.\"\n",
              "            style=\"display:none;\">\n",
              "\n",
              "  <svg xmlns=\"http://www.w3.org/2000/svg\" height=\"24px\" viewBox=\"0 -960 960 960\">\n",
              "    <path d=\"M120-120v-720h720v720H120Zm60-500h600v-160H180v160Zm220 220h160v-160H400v160Zm0 220h160v-160H400v160ZM180-400h160v-160H180v160Zm440 0h160v-160H620v160ZM180-180h160v-160H180v160Zm440 0h160v-160H620v160Z\"/>\n",
              "  </svg>\n",
              "    </button>\n",
              "\n",
              "  <style>\n",
              "    .colab-df-container {\n",
              "      display:flex;\n",
              "      gap: 12px;\n",
              "    }\n",
              "\n",
              "    .colab-df-convert {\n",
              "      background-color: #E8F0FE;\n",
              "      border: none;\n",
              "      border-radius: 50%;\n",
              "      cursor: pointer;\n",
              "      display: none;\n",
              "      fill: #1967D2;\n",
              "      height: 32px;\n",
              "      padding: 0 0 0 0;\n",
              "      width: 32px;\n",
              "    }\n",
              "\n",
              "    .colab-df-convert:hover {\n",
              "      background-color: #E2EBFA;\n",
              "      box-shadow: 0px 1px 2px rgba(60, 64, 67, 0.3), 0px 1px 3px 1px rgba(60, 64, 67, 0.15);\n",
              "      fill: #174EA6;\n",
              "    }\n",
              "\n",
              "    .colab-df-buttons div {\n",
              "      margin-bottom: 4px;\n",
              "    }\n",
              "\n",
              "    [theme=dark] .colab-df-convert {\n",
              "      background-color: #3B4455;\n",
              "      fill: #D2E3FC;\n",
              "    }\n",
              "\n",
              "    [theme=dark] .colab-df-convert:hover {\n",
              "      background-color: #434B5C;\n",
              "      box-shadow: 0px 1px 3px 1px rgba(0, 0, 0, 0.15);\n",
              "      filter: drop-shadow(0px 1px 2px rgba(0, 0, 0, 0.3));\n",
              "      fill: #FFFFFF;\n",
              "    }\n",
              "  </style>\n",
              "\n",
              "    <script>\n",
              "      const buttonEl =\n",
              "        document.querySelector('#df-9f2b0ca1-4e7c-491b-8c73-c4415f75254d button.colab-df-convert');\n",
              "      buttonEl.style.display =\n",
              "        google.colab.kernel.accessAllowed ? 'block' : 'none';\n",
              "\n",
              "      async function convertToInteractive(key) {\n",
              "        const element = document.querySelector('#df-9f2b0ca1-4e7c-491b-8c73-c4415f75254d');\n",
              "        const dataTable =\n",
              "          await google.colab.kernel.invokeFunction('convertToInteractive',\n",
              "                                                    [key], {});\n",
              "        if (!dataTable) return;\n",
              "\n",
              "        const docLinkHtml = 'Like what you see? Visit the ' +\n",
              "          '<a target=\"_blank\" href=https://colab.research.google.com/notebooks/data_table.ipynb>data table notebook</a>'\n",
              "          + ' to learn more about interactive tables.';\n",
              "        element.innerHTML = '';\n",
              "        dataTable['output_type'] = 'display_data';\n",
              "        await google.colab.output.renderOutput(dataTable, element);\n",
              "        const docLink = document.createElement('div');\n",
              "        docLink.innerHTML = docLinkHtml;\n",
              "        element.appendChild(docLink);\n",
              "      }\n",
              "    </script>\n",
              "  </div>\n",
              "\n",
              "\n",
              "    <div id=\"df-6e26958b-5f08-40e0-b681-1f6283b15e8f\">\n",
              "      <button class=\"colab-df-quickchart\" onclick=\"quickchart('df-6e26958b-5f08-40e0-b681-1f6283b15e8f')\"\n",
              "                title=\"Suggest charts\"\n",
              "                style=\"display:none;\">\n",
              "\n",
              "<svg xmlns=\"http://www.w3.org/2000/svg\" height=\"24px\"viewBox=\"0 0 24 24\"\n",
              "     width=\"24px\">\n",
              "    <g>\n",
              "        <path d=\"M19 3H5c-1.1 0-2 .9-2 2v14c0 1.1.9 2 2 2h14c1.1 0 2-.9 2-2V5c0-1.1-.9-2-2-2zM9 17H7v-7h2v7zm4 0h-2V7h2v10zm4 0h-2v-4h2v4z\"/>\n",
              "    </g>\n",
              "</svg>\n",
              "      </button>\n",
              "\n",
              "<style>\n",
              "  .colab-df-quickchart {\n",
              "      --bg-color: #E8F0FE;\n",
              "      --fill-color: #1967D2;\n",
              "      --hover-bg-color: #E2EBFA;\n",
              "      --hover-fill-color: #174EA6;\n",
              "      --disabled-fill-color: #AAA;\n",
              "      --disabled-bg-color: #DDD;\n",
              "  }\n",
              "\n",
              "  [theme=dark] .colab-df-quickchart {\n",
              "      --bg-color: #3B4455;\n",
              "      --fill-color: #D2E3FC;\n",
              "      --hover-bg-color: #434B5C;\n",
              "      --hover-fill-color: #FFFFFF;\n",
              "      --disabled-bg-color: #3B4455;\n",
              "      --disabled-fill-color: #666;\n",
              "  }\n",
              "\n",
              "  .colab-df-quickchart {\n",
              "    background-color: var(--bg-color);\n",
              "    border: none;\n",
              "    border-radius: 50%;\n",
              "    cursor: pointer;\n",
              "    display: none;\n",
              "    fill: var(--fill-color);\n",
              "    height: 32px;\n",
              "    padding: 0;\n",
              "    width: 32px;\n",
              "  }\n",
              "\n",
              "  .colab-df-quickchart:hover {\n",
              "    background-color: var(--hover-bg-color);\n",
              "    box-shadow: 0 1px 2px rgba(60, 64, 67, 0.3), 0 1px 3px 1px rgba(60, 64, 67, 0.15);\n",
              "    fill: var(--button-hover-fill-color);\n",
              "  }\n",
              "\n",
              "  .colab-df-quickchart-complete:disabled,\n",
              "  .colab-df-quickchart-complete:disabled:hover {\n",
              "    background-color: var(--disabled-bg-color);\n",
              "    fill: var(--disabled-fill-color);\n",
              "    box-shadow: none;\n",
              "  }\n",
              "\n",
              "  .colab-df-spinner {\n",
              "    border: 2px solid var(--fill-color);\n",
              "    border-color: transparent;\n",
              "    border-bottom-color: var(--fill-color);\n",
              "    animation:\n",
              "      spin 1s steps(1) infinite;\n",
              "  }\n",
              "\n",
              "  @keyframes spin {\n",
              "    0% {\n",
              "      border-color: transparent;\n",
              "      border-bottom-color: var(--fill-color);\n",
              "      border-left-color: var(--fill-color);\n",
              "    }\n",
              "    20% {\n",
              "      border-color: transparent;\n",
              "      border-left-color: var(--fill-color);\n",
              "      border-top-color: var(--fill-color);\n",
              "    }\n",
              "    30% {\n",
              "      border-color: transparent;\n",
              "      border-left-color: var(--fill-color);\n",
              "      border-top-color: var(--fill-color);\n",
              "      border-right-color: var(--fill-color);\n",
              "    }\n",
              "    40% {\n",
              "      border-color: transparent;\n",
              "      border-right-color: var(--fill-color);\n",
              "      border-top-color: var(--fill-color);\n",
              "    }\n",
              "    60% {\n",
              "      border-color: transparent;\n",
              "      border-right-color: var(--fill-color);\n",
              "    }\n",
              "    80% {\n",
              "      border-color: transparent;\n",
              "      border-right-color: var(--fill-color);\n",
              "      border-bottom-color: var(--fill-color);\n",
              "    }\n",
              "    90% {\n",
              "      border-color: transparent;\n",
              "      border-bottom-color: var(--fill-color);\n",
              "    }\n",
              "  }\n",
              "</style>\n",
              "\n",
              "      <script>\n",
              "        async function quickchart(key) {\n",
              "          const quickchartButtonEl =\n",
              "            document.querySelector('#' + key + ' button');\n",
              "          quickchartButtonEl.disabled = true;  // To prevent multiple clicks.\n",
              "          quickchartButtonEl.classList.add('colab-df-spinner');\n",
              "          try {\n",
              "            const charts = await google.colab.kernel.invokeFunction(\n",
              "                'suggestCharts', [key], {});\n",
              "          } catch (error) {\n",
              "            console.error('Error during call to suggestCharts:', error);\n",
              "          }\n",
              "          quickchartButtonEl.classList.remove('colab-df-spinner');\n",
              "          quickchartButtonEl.classList.add('colab-df-quickchart-complete');\n",
              "        }\n",
              "        (() => {\n",
              "          let quickchartButtonEl =\n",
              "            document.querySelector('#df-6e26958b-5f08-40e0-b681-1f6283b15e8f button');\n",
              "          quickchartButtonEl.style.display =\n",
              "            google.colab.kernel.accessAllowed ? 'block' : 'none';\n",
              "        })();\n",
              "      </script>\n",
              "    </div>\n",
              "\n",
              "    </div>\n",
              "  </div>\n"
            ],
            "application/vnd.google.colaboratory.intrinsic+json": {
              "type": "dataframe",
              "variable_name": "df",
              "summary": "{\n  \"name\": \"df\",\n  \"rows\": 7267,\n  \"fields\": [\n    {\n      \"column\": \"customerID\",\n      \"properties\": {\n        \"dtype\": \"string\",\n        \"num_unique_values\": 7267,\n        \"samples\": [\n          \"2038-OEQZH\",\n          \"6322-HRPFA\",\n          \"3969-JQABI\"\n        ],\n        \"semantic_type\": \"\",\n        \"description\": \"\"\n      }\n    },\n    {\n      \"column\": \"Churn\",\n      \"properties\": {\n        \"dtype\": \"category\",\n        \"num_unique_values\": 3,\n        \"samples\": [\n          \"No\",\n          \"Yes\",\n          \"\"\n        ],\n        \"semantic_type\": \"\",\n        \"description\": \"\"\n      }\n    },\n    {\n      \"column\": \"customer\",\n      \"properties\": {\n        \"dtype\": \"object\",\n        \"semantic_type\": \"\",\n        \"description\": \"\"\n      }\n    },\n    {\n      \"column\": \"phone\",\n      \"properties\": {\n        \"dtype\": \"object\",\n        \"semantic_type\": \"\",\n        \"description\": \"\"\n      }\n    },\n    {\n      \"column\": \"internet\",\n      \"properties\": {\n        \"dtype\": \"object\",\n        \"semantic_type\": \"\",\n        \"description\": \"\"\n      }\n    },\n    {\n      \"column\": \"account\",\n      \"properties\": {\n        \"dtype\": \"object\",\n        \"semantic_type\": \"\",\n        \"description\": \"\"\n      }\n    }\n  ]\n}"
            }
          },
          "metadata": {},
          "execution_count": 4
        }
      ]
    },
    {
      "cell_type": "code",
      "source": [
        "#Usamos el método pd.json_normalize para convertir los datos anidados en columnas.\n",
        "df_plano = pd.json_normalize(resultado)\n",
        "df_plano.head()"
      ],
      "metadata": {
        "id": "dYQI4zzWg1D1",
        "outputId": "4ce53a75-3ca7-4b68-d0ef-597ede297a35",
        "colab": {
          "base_uri": "https://localhost:8080/",
          "height": 325
        }
      },
      "execution_count": 5,
      "outputs": [
        {
          "output_type": "execute_result",
          "data": {
            "text/plain": [
              "   customerID Churn customer.gender  customer.SeniorCitizen customer.Partner  \\\n",
              "0  0002-ORFBO    No          Female                       0              Yes   \n",
              "1  0003-MKNFE    No            Male                       0               No   \n",
              "2  0004-TLHLJ   Yes            Male                       0               No   \n",
              "3  0011-IGKFF   Yes            Male                       1              Yes   \n",
              "4  0013-EXCHZ   Yes          Female                       1              Yes   \n",
              "\n",
              "  customer.Dependents  customer.tenure phone.PhoneService phone.MultipleLines  \\\n",
              "0                 Yes                9                Yes                  No   \n",
              "1                  No                9                Yes                 Yes   \n",
              "2                  No                4                Yes                  No   \n",
              "3                  No               13                Yes                  No   \n",
              "4                  No                3                Yes                  No   \n",
              "\n",
              "  internet.InternetService  ... internet.OnlineBackup  \\\n",
              "0                      DSL  ...                   Yes   \n",
              "1                      DSL  ...                    No   \n",
              "2              Fiber optic  ...                    No   \n",
              "3              Fiber optic  ...                   Yes   \n",
              "4              Fiber optic  ...                    No   \n",
              "\n",
              "  internet.DeviceProtection internet.TechSupport internet.StreamingTV  \\\n",
              "0                        No                  Yes                  Yes   \n",
              "1                        No                   No                   No   \n",
              "2                       Yes                   No                   No   \n",
              "3                       Yes                   No                  Yes   \n",
              "4                        No                  Yes                  Yes   \n",
              "\n",
              "  internet.StreamingMovies account.Contract account.PaperlessBilling  \\\n",
              "0                       No         One year                      Yes   \n",
              "1                      Yes   Month-to-month                       No   \n",
              "2                       No   Month-to-month                      Yes   \n",
              "3                      Yes   Month-to-month                      Yes   \n",
              "4                       No   Month-to-month                      Yes   \n",
              "\n",
              "  account.PaymentMethod account.Charges.Monthly  account.Charges.Total  \n",
              "0          Mailed check                    65.6                  593.3  \n",
              "1          Mailed check                    59.9                  542.4  \n",
              "2      Electronic check                    73.9                 280.85  \n",
              "3      Electronic check                    98.0                1237.85  \n",
              "4          Mailed check                    83.9                  267.4  \n",
              "\n",
              "[5 rows x 21 columns]"
            ],
            "text/html": [
              "\n",
              "  <div id=\"df-d8ecec68-bf8a-4ffa-99e9-48db74b09048\" class=\"colab-df-container\">\n",
              "    <div>\n",
              "<style scoped>\n",
              "    .dataframe tbody tr th:only-of-type {\n",
              "        vertical-align: middle;\n",
              "    }\n",
              "\n",
              "    .dataframe tbody tr th {\n",
              "        vertical-align: top;\n",
              "    }\n",
              "\n",
              "    .dataframe thead th {\n",
              "        text-align: right;\n",
              "    }\n",
              "</style>\n",
              "<table border=\"1\" class=\"dataframe\">\n",
              "  <thead>\n",
              "    <tr style=\"text-align: right;\">\n",
              "      <th></th>\n",
              "      <th>customerID</th>\n",
              "      <th>Churn</th>\n",
              "      <th>customer.gender</th>\n",
              "      <th>customer.SeniorCitizen</th>\n",
              "      <th>customer.Partner</th>\n",
              "      <th>customer.Dependents</th>\n",
              "      <th>customer.tenure</th>\n",
              "      <th>phone.PhoneService</th>\n",
              "      <th>phone.MultipleLines</th>\n",
              "      <th>internet.InternetService</th>\n",
              "      <th>...</th>\n",
              "      <th>internet.OnlineBackup</th>\n",
              "      <th>internet.DeviceProtection</th>\n",
              "      <th>internet.TechSupport</th>\n",
              "      <th>internet.StreamingTV</th>\n",
              "      <th>internet.StreamingMovies</th>\n",
              "      <th>account.Contract</th>\n",
              "      <th>account.PaperlessBilling</th>\n",
              "      <th>account.PaymentMethod</th>\n",
              "      <th>account.Charges.Monthly</th>\n",
              "      <th>account.Charges.Total</th>\n",
              "    </tr>\n",
              "  </thead>\n",
              "  <tbody>\n",
              "    <tr>\n",
              "      <th>0</th>\n",
              "      <td>0002-ORFBO</td>\n",
              "      <td>No</td>\n",
              "      <td>Female</td>\n",
              "      <td>0</td>\n",
              "      <td>Yes</td>\n",
              "      <td>Yes</td>\n",
              "      <td>9</td>\n",
              "      <td>Yes</td>\n",
              "      <td>No</td>\n",
              "      <td>DSL</td>\n",
              "      <td>...</td>\n",
              "      <td>Yes</td>\n",
              "      <td>No</td>\n",
              "      <td>Yes</td>\n",
              "      <td>Yes</td>\n",
              "      <td>No</td>\n",
              "      <td>One year</td>\n",
              "      <td>Yes</td>\n",
              "      <td>Mailed check</td>\n",
              "      <td>65.6</td>\n",
              "      <td>593.3</td>\n",
              "    </tr>\n",
              "    <tr>\n",
              "      <th>1</th>\n",
              "      <td>0003-MKNFE</td>\n",
              "      <td>No</td>\n",
              "      <td>Male</td>\n",
              "      <td>0</td>\n",
              "      <td>No</td>\n",
              "      <td>No</td>\n",
              "      <td>9</td>\n",
              "      <td>Yes</td>\n",
              "      <td>Yes</td>\n",
              "      <td>DSL</td>\n",
              "      <td>...</td>\n",
              "      <td>No</td>\n",
              "      <td>No</td>\n",
              "      <td>No</td>\n",
              "      <td>No</td>\n",
              "      <td>Yes</td>\n",
              "      <td>Month-to-month</td>\n",
              "      <td>No</td>\n",
              "      <td>Mailed check</td>\n",
              "      <td>59.9</td>\n",
              "      <td>542.4</td>\n",
              "    </tr>\n",
              "    <tr>\n",
              "      <th>2</th>\n",
              "      <td>0004-TLHLJ</td>\n",
              "      <td>Yes</td>\n",
              "      <td>Male</td>\n",
              "      <td>0</td>\n",
              "      <td>No</td>\n",
              "      <td>No</td>\n",
              "      <td>4</td>\n",
              "      <td>Yes</td>\n",
              "      <td>No</td>\n",
              "      <td>Fiber optic</td>\n",
              "      <td>...</td>\n",
              "      <td>No</td>\n",
              "      <td>Yes</td>\n",
              "      <td>No</td>\n",
              "      <td>No</td>\n",
              "      <td>No</td>\n",
              "      <td>Month-to-month</td>\n",
              "      <td>Yes</td>\n",
              "      <td>Electronic check</td>\n",
              "      <td>73.9</td>\n",
              "      <td>280.85</td>\n",
              "    </tr>\n",
              "    <tr>\n",
              "      <th>3</th>\n",
              "      <td>0011-IGKFF</td>\n",
              "      <td>Yes</td>\n",
              "      <td>Male</td>\n",
              "      <td>1</td>\n",
              "      <td>Yes</td>\n",
              "      <td>No</td>\n",
              "      <td>13</td>\n",
              "      <td>Yes</td>\n",
              "      <td>No</td>\n",
              "      <td>Fiber optic</td>\n",
              "      <td>...</td>\n",
              "      <td>Yes</td>\n",
              "      <td>Yes</td>\n",
              "      <td>No</td>\n",
              "      <td>Yes</td>\n",
              "      <td>Yes</td>\n",
              "      <td>Month-to-month</td>\n",
              "      <td>Yes</td>\n",
              "      <td>Electronic check</td>\n",
              "      <td>98.0</td>\n",
              "      <td>1237.85</td>\n",
              "    </tr>\n",
              "    <tr>\n",
              "      <th>4</th>\n",
              "      <td>0013-EXCHZ</td>\n",
              "      <td>Yes</td>\n",
              "      <td>Female</td>\n",
              "      <td>1</td>\n",
              "      <td>Yes</td>\n",
              "      <td>No</td>\n",
              "      <td>3</td>\n",
              "      <td>Yes</td>\n",
              "      <td>No</td>\n",
              "      <td>Fiber optic</td>\n",
              "      <td>...</td>\n",
              "      <td>No</td>\n",
              "      <td>No</td>\n",
              "      <td>Yes</td>\n",
              "      <td>Yes</td>\n",
              "      <td>No</td>\n",
              "      <td>Month-to-month</td>\n",
              "      <td>Yes</td>\n",
              "      <td>Mailed check</td>\n",
              "      <td>83.9</td>\n",
              "      <td>267.4</td>\n",
              "    </tr>\n",
              "  </tbody>\n",
              "</table>\n",
              "<p>5 rows × 21 columns</p>\n",
              "</div>\n",
              "    <div class=\"colab-df-buttons\">\n",
              "\n",
              "  <div class=\"colab-df-container\">\n",
              "    <button class=\"colab-df-convert\" onclick=\"convertToInteractive('df-d8ecec68-bf8a-4ffa-99e9-48db74b09048')\"\n",
              "            title=\"Convert this dataframe to an interactive table.\"\n",
              "            style=\"display:none;\">\n",
              "\n",
              "  <svg xmlns=\"http://www.w3.org/2000/svg\" height=\"24px\" viewBox=\"0 -960 960 960\">\n",
              "    <path d=\"M120-120v-720h720v720H120Zm60-500h600v-160H180v160Zm220 220h160v-160H400v160Zm0 220h160v-160H400v160ZM180-400h160v-160H180v160Zm440 0h160v-160H620v160ZM180-180h160v-160H180v160Zm440 0h160v-160H620v160Z\"/>\n",
              "  </svg>\n",
              "    </button>\n",
              "\n",
              "  <style>\n",
              "    .colab-df-container {\n",
              "      display:flex;\n",
              "      gap: 12px;\n",
              "    }\n",
              "\n",
              "    .colab-df-convert {\n",
              "      background-color: #E8F0FE;\n",
              "      border: none;\n",
              "      border-radius: 50%;\n",
              "      cursor: pointer;\n",
              "      display: none;\n",
              "      fill: #1967D2;\n",
              "      height: 32px;\n",
              "      padding: 0 0 0 0;\n",
              "      width: 32px;\n",
              "    }\n",
              "\n",
              "    .colab-df-convert:hover {\n",
              "      background-color: #E2EBFA;\n",
              "      box-shadow: 0px 1px 2px rgba(60, 64, 67, 0.3), 0px 1px 3px 1px rgba(60, 64, 67, 0.15);\n",
              "      fill: #174EA6;\n",
              "    }\n",
              "\n",
              "    .colab-df-buttons div {\n",
              "      margin-bottom: 4px;\n",
              "    }\n",
              "\n",
              "    [theme=dark] .colab-df-convert {\n",
              "      background-color: #3B4455;\n",
              "      fill: #D2E3FC;\n",
              "    }\n",
              "\n",
              "    [theme=dark] .colab-df-convert:hover {\n",
              "      background-color: #434B5C;\n",
              "      box-shadow: 0px 1px 3px 1px rgba(0, 0, 0, 0.15);\n",
              "      filter: drop-shadow(0px 1px 2px rgba(0, 0, 0, 0.3));\n",
              "      fill: #FFFFFF;\n",
              "    }\n",
              "  </style>\n",
              "\n",
              "    <script>\n",
              "      const buttonEl =\n",
              "        document.querySelector('#df-d8ecec68-bf8a-4ffa-99e9-48db74b09048 button.colab-df-convert');\n",
              "      buttonEl.style.display =\n",
              "        google.colab.kernel.accessAllowed ? 'block' : 'none';\n",
              "\n",
              "      async function convertToInteractive(key) {\n",
              "        const element = document.querySelector('#df-d8ecec68-bf8a-4ffa-99e9-48db74b09048');\n",
              "        const dataTable =\n",
              "          await google.colab.kernel.invokeFunction('convertToInteractive',\n",
              "                                                    [key], {});\n",
              "        if (!dataTable) return;\n",
              "\n",
              "        const docLinkHtml = 'Like what you see? Visit the ' +\n",
              "          '<a target=\"_blank\" href=https://colab.research.google.com/notebooks/data_table.ipynb>data table notebook</a>'\n",
              "          + ' to learn more about interactive tables.';\n",
              "        element.innerHTML = '';\n",
              "        dataTable['output_type'] = 'display_data';\n",
              "        await google.colab.output.renderOutput(dataTable, element);\n",
              "        const docLink = document.createElement('div');\n",
              "        docLink.innerHTML = docLinkHtml;\n",
              "        element.appendChild(docLink);\n",
              "      }\n",
              "    </script>\n",
              "  </div>\n",
              "\n",
              "\n",
              "    <div id=\"df-8e24050c-e896-4728-a8cb-b2b00c957065\">\n",
              "      <button class=\"colab-df-quickchart\" onclick=\"quickchart('df-8e24050c-e896-4728-a8cb-b2b00c957065')\"\n",
              "                title=\"Suggest charts\"\n",
              "                style=\"display:none;\">\n",
              "\n",
              "<svg xmlns=\"http://www.w3.org/2000/svg\" height=\"24px\"viewBox=\"0 0 24 24\"\n",
              "     width=\"24px\">\n",
              "    <g>\n",
              "        <path d=\"M19 3H5c-1.1 0-2 .9-2 2v14c0 1.1.9 2 2 2h14c1.1 0 2-.9 2-2V5c0-1.1-.9-2-2-2zM9 17H7v-7h2v7zm4 0h-2V7h2v10zm4 0h-2v-4h2v4z\"/>\n",
              "    </g>\n",
              "</svg>\n",
              "      </button>\n",
              "\n",
              "<style>\n",
              "  .colab-df-quickchart {\n",
              "      --bg-color: #E8F0FE;\n",
              "      --fill-color: #1967D2;\n",
              "      --hover-bg-color: #E2EBFA;\n",
              "      --hover-fill-color: #174EA6;\n",
              "      --disabled-fill-color: #AAA;\n",
              "      --disabled-bg-color: #DDD;\n",
              "  }\n",
              "\n",
              "  [theme=dark] .colab-df-quickchart {\n",
              "      --bg-color: #3B4455;\n",
              "      --fill-color: #D2E3FC;\n",
              "      --hover-bg-color: #434B5C;\n",
              "      --hover-fill-color: #FFFFFF;\n",
              "      --disabled-bg-color: #3B4455;\n",
              "      --disabled-fill-color: #666;\n",
              "  }\n",
              "\n",
              "  .colab-df-quickchart {\n",
              "    background-color: var(--bg-color);\n",
              "    border: none;\n",
              "    border-radius: 50%;\n",
              "    cursor: pointer;\n",
              "    display: none;\n",
              "    fill: var(--fill-color);\n",
              "    height: 32px;\n",
              "    padding: 0;\n",
              "    width: 32px;\n",
              "  }\n",
              "\n",
              "  .colab-df-quickchart:hover {\n",
              "    background-color: var(--hover-bg-color);\n",
              "    box-shadow: 0 1px 2px rgba(60, 64, 67, 0.3), 0 1px 3px 1px rgba(60, 64, 67, 0.15);\n",
              "    fill: var(--button-hover-fill-color);\n",
              "  }\n",
              "\n",
              "  .colab-df-quickchart-complete:disabled,\n",
              "  .colab-df-quickchart-complete:disabled:hover {\n",
              "    background-color: var(--disabled-bg-color);\n",
              "    fill: var(--disabled-fill-color);\n",
              "    box-shadow: none;\n",
              "  }\n",
              "\n",
              "  .colab-df-spinner {\n",
              "    border: 2px solid var(--fill-color);\n",
              "    border-color: transparent;\n",
              "    border-bottom-color: var(--fill-color);\n",
              "    animation:\n",
              "      spin 1s steps(1) infinite;\n",
              "  }\n",
              "\n",
              "  @keyframes spin {\n",
              "    0% {\n",
              "      border-color: transparent;\n",
              "      border-bottom-color: var(--fill-color);\n",
              "      border-left-color: var(--fill-color);\n",
              "    }\n",
              "    20% {\n",
              "      border-color: transparent;\n",
              "      border-left-color: var(--fill-color);\n",
              "      border-top-color: var(--fill-color);\n",
              "    }\n",
              "    30% {\n",
              "      border-color: transparent;\n",
              "      border-left-color: var(--fill-color);\n",
              "      border-top-color: var(--fill-color);\n",
              "      border-right-color: var(--fill-color);\n",
              "    }\n",
              "    40% {\n",
              "      border-color: transparent;\n",
              "      border-right-color: var(--fill-color);\n",
              "      border-top-color: var(--fill-color);\n",
              "    }\n",
              "    60% {\n",
              "      border-color: transparent;\n",
              "      border-right-color: var(--fill-color);\n",
              "    }\n",
              "    80% {\n",
              "      border-color: transparent;\n",
              "      border-right-color: var(--fill-color);\n",
              "      border-bottom-color: var(--fill-color);\n",
              "    }\n",
              "    90% {\n",
              "      border-color: transparent;\n",
              "      border-bottom-color: var(--fill-color);\n",
              "    }\n",
              "  }\n",
              "</style>\n",
              "\n",
              "      <script>\n",
              "        async function quickchart(key) {\n",
              "          const quickchartButtonEl =\n",
              "            document.querySelector('#' + key + ' button');\n",
              "          quickchartButtonEl.disabled = true;  // To prevent multiple clicks.\n",
              "          quickchartButtonEl.classList.add('colab-df-spinner');\n",
              "          try {\n",
              "            const charts = await google.colab.kernel.invokeFunction(\n",
              "                'suggestCharts', [key], {});\n",
              "          } catch (error) {\n",
              "            console.error('Error during call to suggestCharts:', error);\n",
              "          }\n",
              "          quickchartButtonEl.classList.remove('colab-df-spinner');\n",
              "          quickchartButtonEl.classList.add('colab-df-quickchart-complete');\n",
              "        }\n",
              "        (() => {\n",
              "          let quickchartButtonEl =\n",
              "            document.querySelector('#df-8e24050c-e896-4728-a8cb-b2b00c957065 button');\n",
              "          quickchartButtonEl.style.display =\n",
              "            google.colab.kernel.accessAllowed ? 'block' : 'none';\n",
              "        })();\n",
              "      </script>\n",
              "    </div>\n",
              "\n",
              "    </div>\n",
              "  </div>\n"
            ],
            "application/vnd.google.colaboratory.intrinsic+json": {
              "type": "dataframe",
              "variable_name": "df_plano"
            }
          },
          "metadata": {},
          "execution_count": 5
        }
      ]
    },
    {
      "cell_type": "markdown",
      "source": [
        "##🔧 Transformación"
      ],
      "metadata": {
        "id": "1lSZP8zmmGZu"
      }
    },
    {
      "cell_type": "markdown",
      "source": [
        "###Conoce el conjunto de datos\n",
        "Se encontró que ninguna columna tiene valores nulos. Y se cambió el nombre de las columnas para que coincidan con el diccionario de datos."
      ],
      "metadata": {
        "id": "7QOUJaQ_DbmP"
      }
    },
    {
      "cell_type": "code",
      "source": [
        "#Se consulta la cantidad de registros no nulos y el tipo de datos de cada columna.\n",
        "df_plano.info()"
      ],
      "metadata": {
        "id": "D3GL--LDECwp",
        "outputId": "c6f516ba-ad65-4fa2-be18-3dd5dacc268a",
        "colab": {
          "base_uri": "https://localhost:8080/"
        }
      },
      "execution_count": 6,
      "outputs": [
        {
          "output_type": "stream",
          "name": "stdout",
          "text": [
            "<class 'pandas.core.frame.DataFrame'>\n",
            "RangeIndex: 7267 entries, 0 to 7266\n",
            "Data columns (total 21 columns):\n",
            " #   Column                     Non-Null Count  Dtype  \n",
            "---  ------                     --------------  -----  \n",
            " 0   customerID                 7267 non-null   object \n",
            " 1   Churn                      7267 non-null   object \n",
            " 2   customer.gender            7267 non-null   object \n",
            " 3   customer.SeniorCitizen     7267 non-null   int64  \n",
            " 4   customer.Partner           7267 non-null   object \n",
            " 5   customer.Dependents        7267 non-null   object \n",
            " 6   customer.tenure            7267 non-null   int64  \n",
            " 7   phone.PhoneService         7267 non-null   object \n",
            " 8   phone.MultipleLines        7267 non-null   object \n",
            " 9   internet.InternetService   7267 non-null   object \n",
            " 10  internet.OnlineSecurity    7267 non-null   object \n",
            " 11  internet.OnlineBackup      7267 non-null   object \n",
            " 12  internet.DeviceProtection  7267 non-null   object \n",
            " 13  internet.TechSupport       7267 non-null   object \n",
            " 14  internet.StreamingTV       7267 non-null   object \n",
            " 15  internet.StreamingMovies   7267 non-null   object \n",
            " 16  account.Contract           7267 non-null   object \n",
            " 17  account.PaperlessBilling   7267 non-null   object \n",
            " 18  account.PaymentMethod      7267 non-null   object \n",
            " 19  account.Charges.Monthly    7267 non-null   float64\n",
            " 20  account.Charges.Total      7267 non-null   object \n",
            "dtypes: float64(1), int64(2), object(18)\n",
            "memory usage: 1.2+ MB\n"
          ]
        }
      ]
    },
    {
      "cell_type": "code",
      "source": [
        "#Se renombran las columnas para estar alineados al diccionario de datos.\n",
        "dict_columnas = {'customer.gender':'gender', 'customer.SeniorCitizen':'SeniorCitizen'\n",
        "                 ,'customer.Partner':'Partner', 'customer.Dependents':'Dependents',\n",
        "                 'customer.tenure':'tenure', 'phone.PhoneService':'PhoneService',\n",
        "                 'phone.MultipleLines':'MultipleLines', 'internet.InternetService':'InternetService',\n",
        "                 'internet.OnlineSecurity':'OnlineSecurity', 'internet.OnlineBackup':'OnlineBackup',\n",
        "                 'internet.DeviceProtection':'DeviceProtection', 'internet.TechSupport':'TechSupport',\n",
        "                 'internet.StreamingTV':'StreamingTV', 'internet.StreamingMovies':'StreamingMovies',\n",
        "                 'account.Contract':'Contract', 'account.PaperlessBilling':'PaperlessBilling',\n",
        "                 'account.PaymentMethod':'PaymentMethod', 'account.Charges.Monthly':'Charges.Monthly',\n",
        "                 'account.Charges.Total':'Charges.Total'}\n",
        "\n",
        "df_plano.rename(dict_columnas, axis=1, inplace=True)\n",
        "df_plano.columns"
      ],
      "metadata": {
        "id": "oatiB1DDS3Pc",
        "outputId": "6b08ba64-415a-46dc-a0d8-d403653c2ad9",
        "colab": {
          "base_uri": "https://localhost:8080/"
        }
      },
      "execution_count": 7,
      "outputs": [
        {
          "output_type": "execute_result",
          "data": {
            "text/plain": [
              "Index(['customerID', 'Churn', 'gender', 'SeniorCitizen', 'Partner',\n",
              "       'Dependents', 'tenure', 'PhoneService', 'MultipleLines',\n",
              "       'InternetService', 'OnlineSecurity', 'OnlineBackup', 'DeviceProtection',\n",
              "       'TechSupport', 'StreamingTV', 'StreamingMovies', 'Contract',\n",
              "       'PaperlessBilling', 'PaymentMethod', 'Charges.Monthly',\n",
              "       'Charges.Total'],\n",
              "      dtype='object')"
            ]
          },
          "metadata": {},
          "execution_count": 7
        }
      ]
    },
    {
      "cell_type": "markdown",
      "source": [
        "###Comprobación de incoherencia en los datos\n",
        "En esta etapa se prestó atención a valores nulos, ausentes, duplicados, errores de formato e inconsistencias en las categorías. Aunque no hay valores duplicados y no hay valores nulos, se encontraron las siguientes incoherencias:\n",
        "- **Columnas**: Los nombres tienen mayusculas, minúsculas y puntos.\n",
        "- **`Churn`**: Tiene 224 registros con valores ausentes.\n",
        "- **`Charges.Total`**: Tiene 11 registros con valores ausentes. También tiene error de formato. Debe ser de tipo float.\n",
        "\n",
        "Además, para facilitar el procesamiento matemático y comprensión de la información, se realizó:\n",
        "- **Traducción**: A español de las columnas `gender`, `PaymentMethod` y `Contract`.\n",
        "- **Cambio del tipo de dato**: A bool de las columnas `SeniorCitizen`, `Partner`, `Dependents`, `PhoneService`, `MultipleLines`, `OnlineSecurity`, `OnlineBackup`, `DeviceProtection`, `TechSupport`,` StreamingTV`, `StreamingMovies` y `PaperlessBilling`.\n",
        "\n"
      ],
      "metadata": {
        "id": "gZw_MGg_DeuS"
      }
    },
    {
      "cell_type": "markdown",
      "source": [
        "####Valores únicos en cada columna"
      ],
      "metadata": {
        "id": "5YjFDXCcixWW"
      }
    },
    {
      "cell_type": "code",
      "source": [
        "#Se consulta los valores únicos en cada columna, y sin son menores de 10 se muestran.\n",
        "for columna in df_plano.columns:\n",
        "  valores = df_plano[columna].unique()\n",
        "  cantidad = len(valores)\n",
        "  print(f'La columna \"{columna}\" tiene {cantidad} valores únicos.')\n",
        "  if cantidad < 10:\n",
        "    print(valores)\n",
        "    print('-'*50)"
      ],
      "metadata": {
        "id": "1KuS7kE2DkM1",
        "outputId": "7390e1c1-bd85-4966-d143-ec442ee957fd",
        "colab": {
          "base_uri": "https://localhost:8080/"
        }
      },
      "execution_count": 8,
      "outputs": [
        {
          "output_type": "stream",
          "name": "stdout",
          "text": [
            "La columna \"customerID\" tiene 7267 valores únicos.\n",
            "La columna \"Churn\" tiene 3 valores únicos.\n",
            "['No' 'Yes' '']\n",
            "--------------------------------------------------\n",
            "La columna \"gender\" tiene 2 valores únicos.\n",
            "['Female' 'Male']\n",
            "--------------------------------------------------\n",
            "La columna \"SeniorCitizen\" tiene 2 valores únicos.\n",
            "[0 1]\n",
            "--------------------------------------------------\n",
            "La columna \"Partner\" tiene 2 valores únicos.\n",
            "['Yes' 'No']\n",
            "--------------------------------------------------\n",
            "La columna \"Dependents\" tiene 2 valores únicos.\n",
            "['Yes' 'No']\n",
            "--------------------------------------------------\n",
            "La columna \"tenure\" tiene 73 valores únicos.\n",
            "La columna \"PhoneService\" tiene 2 valores únicos.\n",
            "['Yes' 'No']\n",
            "--------------------------------------------------\n",
            "La columna \"MultipleLines\" tiene 3 valores únicos.\n",
            "['No' 'Yes' 'No phone service']\n",
            "--------------------------------------------------\n",
            "La columna \"InternetService\" tiene 3 valores únicos.\n",
            "['DSL' 'Fiber optic' 'No']\n",
            "--------------------------------------------------\n",
            "La columna \"OnlineSecurity\" tiene 3 valores únicos.\n",
            "['No' 'Yes' 'No internet service']\n",
            "--------------------------------------------------\n",
            "La columna \"OnlineBackup\" tiene 3 valores únicos.\n",
            "['Yes' 'No' 'No internet service']\n",
            "--------------------------------------------------\n",
            "La columna \"DeviceProtection\" tiene 3 valores únicos.\n",
            "['No' 'Yes' 'No internet service']\n",
            "--------------------------------------------------\n",
            "La columna \"TechSupport\" tiene 3 valores únicos.\n",
            "['Yes' 'No' 'No internet service']\n",
            "--------------------------------------------------\n",
            "La columna \"StreamingTV\" tiene 3 valores únicos.\n",
            "['Yes' 'No' 'No internet service']\n",
            "--------------------------------------------------\n",
            "La columna \"StreamingMovies\" tiene 3 valores únicos.\n",
            "['No' 'Yes' 'No internet service']\n",
            "--------------------------------------------------\n",
            "La columna \"Contract\" tiene 3 valores únicos.\n",
            "['One year' 'Month-to-month' 'Two year']\n",
            "--------------------------------------------------\n",
            "La columna \"PaperlessBilling\" tiene 2 valores únicos.\n",
            "['Yes' 'No']\n",
            "--------------------------------------------------\n",
            "La columna \"PaymentMethod\" tiene 4 valores únicos.\n",
            "['Mailed check' 'Electronic check' 'Credit card (automatic)'\n",
            " 'Bank transfer (automatic)']\n",
            "--------------------------------------------------\n",
            "La columna \"Charges.Monthly\" tiene 1585 valores únicos.\n",
            "La columna \"Charges.Total\" tiene 6531 valores únicos.\n"
          ]
        }
      ]
    },
    {
      "cell_type": "markdown",
      "source": [
        "####Registros nulos"
      ],
      "metadata": {
        "id": "xZHrQbYsi8Oe"
      }
    },
    {
      "cell_type": "code",
      "source": [
        "#Se imprime la cantidad de registros nulos.\n",
        "print(f'Cantidad de registros nulos:\\n{df_plano.isnull().sum()}')"
      ],
      "metadata": {
        "id": "IbU0Pj4pbf-s",
        "outputId": "2d3b97d6-1124-4718-8170-f76e836ef957",
        "colab": {
          "base_uri": "https://localhost:8080/"
        }
      },
      "execution_count": 9,
      "outputs": [
        {
          "output_type": "stream",
          "name": "stdout",
          "text": [
            "Cantidad de registros nulos:\n",
            "customerID          0\n",
            "Churn               0\n",
            "gender              0\n",
            "SeniorCitizen       0\n",
            "Partner             0\n",
            "Dependents          0\n",
            "tenure              0\n",
            "PhoneService        0\n",
            "MultipleLines       0\n",
            "InternetService     0\n",
            "OnlineSecurity      0\n",
            "OnlineBackup        0\n",
            "DeviceProtection    0\n",
            "TechSupport         0\n",
            "StreamingTV         0\n",
            "StreamingMovies     0\n",
            "Contract            0\n",
            "PaperlessBilling    0\n",
            "PaymentMethod       0\n",
            "Charges.Monthly     0\n",
            "Charges.Total       0\n",
            "dtype: int64\n"
          ]
        }
      ]
    },
    {
      "cell_type": "markdown",
      "source": [
        "####Registros duplicados"
      ],
      "metadata": {
        "id": "eH2-LTLHjcSA"
      }
    },
    {
      "cell_type": "code",
      "source": [
        "#Se imprime la cantidad de registros duplicados.\n",
        "print('La cantidad de registros duplicados son:',df_plano.duplicated().sum())"
      ],
      "metadata": {
        "id": "3jVAF2Ltb9HZ",
        "outputId": "13e00c20-b134-42f9-94c2-5ba7743f4e32",
        "colab": {
          "base_uri": "https://localhost:8080/"
        }
      },
      "execution_count": 10,
      "outputs": [
        {
          "output_type": "stream",
          "name": "stdout",
          "text": [
            "La cantidad de registros duplicados son: 0\n"
          ]
        }
      ]
    },
    {
      "cell_type": "markdown",
      "source": [
        "####Registros vacíos"
      ],
      "metadata": {
        "id": "CteN77gtjoO5"
      }
    },
    {
      "cell_type": "code",
      "source": [
        "#Se calcula la cantidad de registros vacíos por columna.\n",
        "'''\n",
        "Se elimina los espacios vacíos al inicio y final de cada valor de la columna.\n",
        "Previamente se convierten los valores a string para poder aplicar el .str y\n",
        "consecuentemente el .strip().\n",
        "Lo anterior devuelve una serie de Pandas con valores booleanos, donde True\n",
        "coincide con celdas vacías y que al aplicarse el método.sum() se suman como 1.\n",
        "Como resultado, se obtiene una serie cuyos índices son el nombre de columnas y\n",
        "los valores son la cantidad de celdas vacías.\n",
        "'''\n",
        "df_plano.apply(lambda x: x.astype(str).str.strip()=='').sum()"
      ],
      "metadata": {
        "id": "ztKqlnE7cSPu",
        "outputId": "7d310f70-4846-4fe9-b614-a51b96b623bc",
        "colab": {
          "base_uri": "https://localhost:8080/",
          "height": 742
        }
      },
      "execution_count": 11,
      "outputs": [
        {
          "output_type": "execute_result",
          "data": {
            "text/plain": [
              "customerID            0\n",
              "Churn               224\n",
              "gender                0\n",
              "SeniorCitizen         0\n",
              "Partner               0\n",
              "Dependents            0\n",
              "tenure                0\n",
              "PhoneService          0\n",
              "MultipleLines         0\n",
              "InternetService       0\n",
              "OnlineSecurity        0\n",
              "OnlineBackup          0\n",
              "DeviceProtection      0\n",
              "TechSupport           0\n",
              "StreamingTV           0\n",
              "StreamingMovies       0\n",
              "Contract              0\n",
              "PaperlessBilling      0\n",
              "PaymentMethod         0\n",
              "Charges.Monthly       0\n",
              "Charges.Total        11\n",
              "dtype: int64"
            ],
            "text/html": [
              "<div>\n",
              "<style scoped>\n",
              "    .dataframe tbody tr th:only-of-type {\n",
              "        vertical-align: middle;\n",
              "    }\n",
              "\n",
              "    .dataframe tbody tr th {\n",
              "        vertical-align: top;\n",
              "    }\n",
              "\n",
              "    .dataframe thead th {\n",
              "        text-align: right;\n",
              "    }\n",
              "</style>\n",
              "<table border=\"1\" class=\"dataframe\">\n",
              "  <thead>\n",
              "    <tr style=\"text-align: right;\">\n",
              "      <th></th>\n",
              "      <th>0</th>\n",
              "    </tr>\n",
              "  </thead>\n",
              "  <tbody>\n",
              "    <tr>\n",
              "      <th>customerID</th>\n",
              "      <td>0</td>\n",
              "    </tr>\n",
              "    <tr>\n",
              "      <th>Churn</th>\n",
              "      <td>224</td>\n",
              "    </tr>\n",
              "    <tr>\n",
              "      <th>gender</th>\n",
              "      <td>0</td>\n",
              "    </tr>\n",
              "    <tr>\n",
              "      <th>SeniorCitizen</th>\n",
              "      <td>0</td>\n",
              "    </tr>\n",
              "    <tr>\n",
              "      <th>Partner</th>\n",
              "      <td>0</td>\n",
              "    </tr>\n",
              "    <tr>\n",
              "      <th>Dependents</th>\n",
              "      <td>0</td>\n",
              "    </tr>\n",
              "    <tr>\n",
              "      <th>tenure</th>\n",
              "      <td>0</td>\n",
              "    </tr>\n",
              "    <tr>\n",
              "      <th>PhoneService</th>\n",
              "      <td>0</td>\n",
              "    </tr>\n",
              "    <tr>\n",
              "      <th>MultipleLines</th>\n",
              "      <td>0</td>\n",
              "    </tr>\n",
              "    <tr>\n",
              "      <th>InternetService</th>\n",
              "      <td>0</td>\n",
              "    </tr>\n",
              "    <tr>\n",
              "      <th>OnlineSecurity</th>\n",
              "      <td>0</td>\n",
              "    </tr>\n",
              "    <tr>\n",
              "      <th>OnlineBackup</th>\n",
              "      <td>0</td>\n",
              "    </tr>\n",
              "    <tr>\n",
              "      <th>DeviceProtection</th>\n",
              "      <td>0</td>\n",
              "    </tr>\n",
              "    <tr>\n",
              "      <th>TechSupport</th>\n",
              "      <td>0</td>\n",
              "    </tr>\n",
              "    <tr>\n",
              "      <th>StreamingTV</th>\n",
              "      <td>0</td>\n",
              "    </tr>\n",
              "    <tr>\n",
              "      <th>StreamingMovies</th>\n",
              "      <td>0</td>\n",
              "    </tr>\n",
              "    <tr>\n",
              "      <th>Contract</th>\n",
              "      <td>0</td>\n",
              "    </tr>\n",
              "    <tr>\n",
              "      <th>PaperlessBilling</th>\n",
              "      <td>0</td>\n",
              "    </tr>\n",
              "    <tr>\n",
              "      <th>PaymentMethod</th>\n",
              "      <td>0</td>\n",
              "    </tr>\n",
              "    <tr>\n",
              "      <th>Charges.Monthly</th>\n",
              "      <td>0</td>\n",
              "    </tr>\n",
              "    <tr>\n",
              "      <th>Charges.Total</th>\n",
              "      <td>11</td>\n",
              "    </tr>\n",
              "  </tbody>\n",
              "</table>\n",
              "</div><br><label><b>dtype:</b> int64</label>"
            ]
          },
          "metadata": {},
          "execution_count": 11
        }
      ]
    },
    {
      "cell_type": "markdown",
      "source": [
        "###Manejo de inconsistencias\n",
        "- **Columnas**: Todos los nombres están en minúsculas y separados por guiones bajos.\n",
        "- **`Churn`**: No tiene registros con valores ausentes.\n",
        "- **`Charges.Total`**: Es de tipo float, teniendo como valor NaN en los registros donde hubieron valores ausentes."
      ],
      "metadata": {
        "id": "54IEnQQNDkm7"
      }
    },
    {
      "cell_type": "markdown",
      "source": [
        "####Nombres de columnas"
      ],
      "metadata": {
        "id": "gQ31Qoa7jzPB"
      }
    },
    {
      "cell_type": "code",
      "source": [
        "#Se escriben los nombres de las columnas en minúsculas y con guiones bajos en lugar de espacios.\n",
        "df_plano.columns = df_plano.columns.str.lower().str.replace('.', '_')\n",
        "df_plano.columns"
      ],
      "metadata": {
        "id": "OPyoHIpsDne8",
        "outputId": "412117f7-4125-4ad4-d714-f8cf5677e018",
        "colab": {
          "base_uri": "https://localhost:8080/"
        }
      },
      "execution_count": 12,
      "outputs": [
        {
          "output_type": "execute_result",
          "data": {
            "text/plain": [
              "Index(['customerid', 'churn', 'gender', 'seniorcitizen', 'partner',\n",
              "       'dependents', 'tenure', 'phoneservice', 'multiplelines',\n",
              "       'internetservice', 'onlinesecurity', 'onlinebackup', 'deviceprotection',\n",
              "       'techsupport', 'streamingtv', 'streamingmovies', 'contract',\n",
              "       'paperlessbilling', 'paymentmethod', 'charges_monthly',\n",
              "       'charges_total'],\n",
              "      dtype='object')"
            ]
          },
          "metadata": {},
          "execution_count": 12
        }
      ]
    },
    {
      "cell_type": "markdown",
      "source": [
        "####Columna **`Churn`**"
      ],
      "metadata": {
        "id": "B5Q0WIv9j6Do"
      }
    },
    {
      "cell_type": "code",
      "source": [
        "#Se eliminan los registros con valores vacíos en Churn mediante indexación booleana.\n",
        "df_plano = df_plano[df_plano.churn !='']\n",
        "#Se consulta la cantidad de registros según el valor en la columna churn.\n",
        "df_plano.churn.value_counts()"
      ],
      "metadata": {
        "id": "m1zxMH8YZmXJ",
        "outputId": "c0db8a8b-5881-4279-c119-05c3345013c6",
        "colab": {
          "base_uri": "https://localhost:8080/",
          "height": 178
        }
      },
      "execution_count": 13,
      "outputs": [
        {
          "output_type": "execute_result",
          "data": {
            "text/plain": [
              "churn\n",
              "No     5174\n",
              "Yes    1869\n",
              "Name: count, dtype: int64"
            ],
            "text/html": [
              "<div>\n",
              "<style scoped>\n",
              "    .dataframe tbody tr th:only-of-type {\n",
              "        vertical-align: middle;\n",
              "    }\n",
              "\n",
              "    .dataframe tbody tr th {\n",
              "        vertical-align: top;\n",
              "    }\n",
              "\n",
              "    .dataframe thead th {\n",
              "        text-align: right;\n",
              "    }\n",
              "</style>\n",
              "<table border=\"1\" class=\"dataframe\">\n",
              "  <thead>\n",
              "    <tr style=\"text-align: right;\">\n",
              "      <th></th>\n",
              "      <th>count</th>\n",
              "    </tr>\n",
              "    <tr>\n",
              "      <th>churn</th>\n",
              "      <th></th>\n",
              "    </tr>\n",
              "  </thead>\n",
              "  <tbody>\n",
              "    <tr>\n",
              "      <th>No</th>\n",
              "      <td>5174</td>\n",
              "    </tr>\n",
              "    <tr>\n",
              "      <th>Yes</th>\n",
              "      <td>1869</td>\n",
              "    </tr>\n",
              "  </tbody>\n",
              "</table>\n",
              "</div><br><label><b>dtype:</b> int64</label>"
            ]
          },
          "metadata": {},
          "execution_count": 13
        }
      ]
    },
    {
      "cell_type": "markdown",
      "source": [
        "####Columna **`Charges.Total`**"
      ],
      "metadata": {
        "id": "cXZNxGJkkEwt"
      }
    },
    {
      "cell_type": "code",
      "source": [
        "#En la etapa anterior, se conoció que hay 11 registros vacíos.\n",
        "#Se eliminan espacios al inicio y final de cada registro.\n",
        "df_plano['charges_total'].apply(lambda x: x.strip())"
      ],
      "metadata": {
        "id": "aiCEbIlvfIqO",
        "outputId": "9c9fb7e4-8f0c-47ed-c983-44bd9c22a05d",
        "colab": {
          "base_uri": "https://localhost:8080/",
          "height": 458
        }
      },
      "execution_count": 14,
      "outputs": [
        {
          "output_type": "execute_result",
          "data": {
            "text/plain": [
              "0         593.3\n",
              "1         542.4\n",
              "2        280.85\n",
              "3       1237.85\n",
              "4         267.4\n",
              "         ...   \n",
              "7262      742.9\n",
              "7263     1873.7\n",
              "7264      92.75\n",
              "7265    4627.65\n",
              "7266     3707.6\n",
              "Name: charges_total, Length: 7043, dtype: object"
            ],
            "text/html": [
              "<div>\n",
              "<style scoped>\n",
              "    .dataframe tbody tr th:only-of-type {\n",
              "        vertical-align: middle;\n",
              "    }\n",
              "\n",
              "    .dataframe tbody tr th {\n",
              "        vertical-align: top;\n",
              "    }\n",
              "\n",
              "    .dataframe thead th {\n",
              "        text-align: right;\n",
              "    }\n",
              "</style>\n",
              "<table border=\"1\" class=\"dataframe\">\n",
              "  <thead>\n",
              "    <tr style=\"text-align: right;\">\n",
              "      <th></th>\n",
              "      <th>charges_total</th>\n",
              "    </tr>\n",
              "  </thead>\n",
              "  <tbody>\n",
              "    <tr>\n",
              "      <th>0</th>\n",
              "      <td>593.3</td>\n",
              "    </tr>\n",
              "    <tr>\n",
              "      <th>1</th>\n",
              "      <td>542.4</td>\n",
              "    </tr>\n",
              "    <tr>\n",
              "      <th>2</th>\n",
              "      <td>280.85</td>\n",
              "    </tr>\n",
              "    <tr>\n",
              "      <th>3</th>\n",
              "      <td>1237.85</td>\n",
              "    </tr>\n",
              "    <tr>\n",
              "      <th>4</th>\n",
              "      <td>267.4</td>\n",
              "    </tr>\n",
              "    <tr>\n",
              "      <th>...</th>\n",
              "      <td>...</td>\n",
              "    </tr>\n",
              "    <tr>\n",
              "      <th>7262</th>\n",
              "      <td>742.9</td>\n",
              "    </tr>\n",
              "    <tr>\n",
              "      <th>7263</th>\n",
              "      <td>1873.7</td>\n",
              "    </tr>\n",
              "    <tr>\n",
              "      <th>7264</th>\n",
              "      <td>92.75</td>\n",
              "    </tr>\n",
              "    <tr>\n",
              "      <th>7265</th>\n",
              "      <td>4627.65</td>\n",
              "    </tr>\n",
              "    <tr>\n",
              "      <th>7266</th>\n",
              "      <td>3707.6</td>\n",
              "    </tr>\n",
              "  </tbody>\n",
              "</table>\n",
              "<p>7043 rows × 1 columns</p>\n",
              "</div><br><label><b>dtype:</b> object</label>"
            ]
          },
          "metadata": {},
          "execution_count": 14
        }
      ]
    },
    {
      "cell_type": "code",
      "source": [
        "#Se corrobora cuantos registros de la columna contienen caracteres especiales o están vacíos.\n",
        "'''\n",
        "Se utiliza dos condiciones en una sola expresión regular:\n",
        "\n",
        "  - [^\\d.]\n",
        "    para identificar caractéres que no sean números o 1 punto.\n",
        "\n",
        "  - (?=(?:.*\\\\.){2,})\n",
        "    para identificar la presencia múltiples puntos.\n",
        "\n",
        "  - ^$\n",
        "    para identificar si el registro está vacío.\n",
        "'''\n",
        "regex = r'[^\\d.]|(?=(?:.*\\.){2,})|^$'\n",
        "df_plano['charges_total'].str.contains(regex, regex=True).sum()"
      ],
      "metadata": {
        "id": "iT8EAB8wZTHJ",
        "outputId": "438d0263-7b3f-49be-8935-a8fdb9ec6d95",
        "colab": {
          "base_uri": "https://localhost:8080/"
        }
      },
      "execution_count": 15,
      "outputs": [
        {
          "output_type": "execute_result",
          "data": {
            "text/plain": [
              "np.int64(11)"
            ]
          },
          "metadata": {},
          "execution_count": 15
        }
      ]
    },
    {
      "cell_type": "code",
      "source": [
        "#Se encontraron 11 registros con formatos problemáticos, se visualizan para ver si se pueden rescatar.\n",
        "df_plano.charges_total[df_plano.charges_total.str.contains(regex, regex=True)]"
      ],
      "metadata": {
        "id": "Q-tOtIuUaSy-",
        "outputId": "31b1acf2-4d21-4811-d568-230461d0f436",
        "colab": {
          "base_uri": "https://localhost:8080/",
          "height": 429
        }
      },
      "execution_count": 16,
      "outputs": [
        {
          "output_type": "execute_result",
          "data": {
            "text/plain": [
              "975      \n",
              "1775     \n",
              "1955     \n",
              "2075     \n",
              "2232     \n",
              "2308     \n",
              "2930     \n",
              "3134     \n",
              "3203     \n",
              "4169     \n",
              "5599     \n",
              "Name: charges_total, dtype: object"
            ],
            "text/html": [
              "<div>\n",
              "<style scoped>\n",
              "    .dataframe tbody tr th:only-of-type {\n",
              "        vertical-align: middle;\n",
              "    }\n",
              "\n",
              "    .dataframe tbody tr th {\n",
              "        vertical-align: top;\n",
              "    }\n",
              "\n",
              "    .dataframe thead th {\n",
              "        text-align: right;\n",
              "    }\n",
              "</style>\n",
              "<table border=\"1\" class=\"dataframe\">\n",
              "  <thead>\n",
              "    <tr style=\"text-align: right;\">\n",
              "      <th></th>\n",
              "      <th>charges_total</th>\n",
              "    </tr>\n",
              "  </thead>\n",
              "  <tbody>\n",
              "    <tr>\n",
              "      <th>975</th>\n",
              "      <td></td>\n",
              "    </tr>\n",
              "    <tr>\n",
              "      <th>1775</th>\n",
              "      <td></td>\n",
              "    </tr>\n",
              "    <tr>\n",
              "      <th>1955</th>\n",
              "      <td></td>\n",
              "    </tr>\n",
              "    <tr>\n",
              "      <th>2075</th>\n",
              "      <td></td>\n",
              "    </tr>\n",
              "    <tr>\n",
              "      <th>2232</th>\n",
              "      <td></td>\n",
              "    </tr>\n",
              "    <tr>\n",
              "      <th>2308</th>\n",
              "      <td></td>\n",
              "    </tr>\n",
              "    <tr>\n",
              "      <th>2930</th>\n",
              "      <td></td>\n",
              "    </tr>\n",
              "    <tr>\n",
              "      <th>3134</th>\n",
              "      <td></td>\n",
              "    </tr>\n",
              "    <tr>\n",
              "      <th>3203</th>\n",
              "      <td></td>\n",
              "    </tr>\n",
              "    <tr>\n",
              "      <th>4169</th>\n",
              "      <td></td>\n",
              "    </tr>\n",
              "    <tr>\n",
              "      <th>5599</th>\n",
              "      <td></td>\n",
              "    </tr>\n",
              "  </tbody>\n",
              "</table>\n",
              "</div><br><label><b>dtype:</b> object</label>"
            ]
          },
          "metadata": {},
          "execution_count": 16
        }
      ]
    },
    {
      "cell_type": "code",
      "source": [
        "#Se comprueba que los 11 registros están vacíos, y se procede con la conversión.\n",
        "'''\n",
        "El parámetro coerce indica que los errores de conversión serán tratados como valore nulos.\n",
        "'''\n",
        "df_plano['charges_total'] = pd.to_numeric(df_plano['charges_total'], errors='coerce', downcast='float')\n",
        "df_plano['charges_total'].dtypes"
      ],
      "metadata": {
        "id": "Hf_k9e2bexZw",
        "outputId": "45caff05-7247-4bc6-99b7-fe7c9cda4ab6",
        "colab": {
          "base_uri": "https://localhost:8080/"
        }
      },
      "execution_count": 17,
      "outputs": [
        {
          "output_type": "stream",
          "name": "stderr",
          "text": [
            "/tmp/ipython-input-17-2982364039.py:5: SettingWithCopyWarning: \n",
            "A value is trying to be set on a copy of a slice from a DataFrame.\n",
            "Try using .loc[row_indexer,col_indexer] = value instead\n",
            "\n",
            "See the caveats in the documentation: https://pandas.pydata.org/pandas-docs/stable/user_guide/indexing.html#returning-a-view-versus-a-copy\n",
            "  df_plano['charges_total'] = pd.to_numeric(df_plano['charges_total'], errors='coerce', downcast='float')\n"
          ]
        },
        {
          "output_type": "execute_result",
          "data": {
            "text/plain": [
              "dtype('float32')"
            ]
          },
          "metadata": {},
          "execution_count": 17
        }
      ]
    },
    {
      "cell_type": "code",
      "source": [
        "df_plano.charges_total[df_plano.charges_total.isna()]"
      ],
      "metadata": {
        "id": "lRFyOF9kinVH",
        "outputId": "9732313a-32c5-4c53-85ea-04e9d3fee939",
        "colab": {
          "base_uri": "https://localhost:8080/",
          "height": 429
        }
      },
      "execution_count": 18,
      "outputs": [
        {
          "output_type": "execute_result",
          "data": {
            "text/plain": [
              "975    NaN\n",
              "1775   NaN\n",
              "1955   NaN\n",
              "2075   NaN\n",
              "2232   NaN\n",
              "2308   NaN\n",
              "2930   NaN\n",
              "3134   NaN\n",
              "3203   NaN\n",
              "4169   NaN\n",
              "5599   NaN\n",
              "Name: charges_total, dtype: float32"
            ],
            "text/html": [
              "<div>\n",
              "<style scoped>\n",
              "    .dataframe tbody tr th:only-of-type {\n",
              "        vertical-align: middle;\n",
              "    }\n",
              "\n",
              "    .dataframe tbody tr th {\n",
              "        vertical-align: top;\n",
              "    }\n",
              "\n",
              "    .dataframe thead th {\n",
              "        text-align: right;\n",
              "    }\n",
              "</style>\n",
              "<table border=\"1\" class=\"dataframe\">\n",
              "  <thead>\n",
              "    <tr style=\"text-align: right;\">\n",
              "      <th></th>\n",
              "      <th>charges_total</th>\n",
              "    </tr>\n",
              "  </thead>\n",
              "  <tbody>\n",
              "    <tr>\n",
              "      <th>975</th>\n",
              "      <td>NaN</td>\n",
              "    </tr>\n",
              "    <tr>\n",
              "      <th>1775</th>\n",
              "      <td>NaN</td>\n",
              "    </tr>\n",
              "    <tr>\n",
              "      <th>1955</th>\n",
              "      <td>NaN</td>\n",
              "    </tr>\n",
              "    <tr>\n",
              "      <th>2075</th>\n",
              "      <td>NaN</td>\n",
              "    </tr>\n",
              "    <tr>\n",
              "      <th>2232</th>\n",
              "      <td>NaN</td>\n",
              "    </tr>\n",
              "    <tr>\n",
              "      <th>2308</th>\n",
              "      <td>NaN</td>\n",
              "    </tr>\n",
              "    <tr>\n",
              "      <th>2930</th>\n",
              "      <td>NaN</td>\n",
              "    </tr>\n",
              "    <tr>\n",
              "      <th>3134</th>\n",
              "      <td>NaN</td>\n",
              "    </tr>\n",
              "    <tr>\n",
              "      <th>3203</th>\n",
              "      <td>NaN</td>\n",
              "    </tr>\n",
              "    <tr>\n",
              "      <th>4169</th>\n",
              "      <td>NaN</td>\n",
              "    </tr>\n",
              "    <tr>\n",
              "      <th>5599</th>\n",
              "      <td>NaN</td>\n",
              "    </tr>\n",
              "  </tbody>\n",
              "</table>\n",
              "</div><br><label><b>dtype:</b> float32</label>"
            ]
          },
          "metadata": {},
          "execution_count": 18
        }
      ]
    },
    {
      "cell_type": "markdown",
      "source": [
        "###Estandarización y transformación de datos\n",
        "- **Se tradujo**: A español de las columnas `gender`, `churn`, `InternetService`, `PaymentMethod` y `Contract`.\n",
        "- **Se cambio el tipo de dato**: A bool de las columnas `SeniorCitizen`, `Partner`, `Dependents`, `PhoneService`, `MultipleLines`, `OnlineSecurity`, `OnlineBackup`, `DeviceProtection`, `TechSupport`,` StreamingTV`, `StreamingMovies` y `PaperlessBilling`."
      ],
      "metadata": {
        "id": "Hl_qyLPdDrpN"
      }
    },
    {
      "cell_type": "markdown",
      "source": [
        "####Traducción al español de columnas"
      ],
      "metadata": {
        "id": "IUpOknlxwOTL"
      }
    },
    {
      "cell_type": "code",
      "source": [
        "#Se remplazaron los valores de la columna gender por su traducción en español.\n",
        "df_plano['gender'] = df_plano['gender'].apply(lambda x: x.replace('Female','Femenino').replace('Male','Masculino'))\n",
        "df_plano['gender'].unique()"
      ],
      "metadata": {
        "id": "0AvEizsNtTf4",
        "outputId": "7b027d2d-ee90-4258-c2b4-a253feb84686",
        "colab": {
          "base_uri": "https://localhost:8080/"
        }
      },
      "execution_count": 19,
      "outputs": [
        {
          "output_type": "execute_result",
          "data": {
            "text/plain": [
              "array(['Femenino', 'Masculino'], dtype=object)"
            ]
          },
          "metadata": {},
          "execution_count": 19
        }
      ]
    },
    {
      "cell_type": "code",
      "source": [
        "#Se remplazaron los valores de la columna churn por su traducción en español.\n",
        "df_plano['churn'] = df_plano['churn'].apply(lambda x: x.replace('Yes', 'Si'))\n",
        "df_plano['churn'].unique()"
      ],
      "metadata": {
        "id": "ERFdi_asjk0w",
        "outputId": "dc7278b1-04f8-4c8e-8739-265e09bd3837",
        "colab": {
          "base_uri": "https://localhost:8080/"
        }
      },
      "execution_count": 20,
      "outputs": [
        {
          "output_type": "execute_result",
          "data": {
            "text/plain": [
              "array(['No', 'Si'], dtype=object)"
            ]
          },
          "metadata": {},
          "execution_count": 20
        }
      ]
    },
    {
      "cell_type": "code",
      "source": [
        "#Se remplazaron los valores de la columna internetservice por su traducción en español.\n",
        "df_plano.internetservice = df_plano.internetservice.apply(lambda x: x.replace('Fiber optic','Fibra óptica'))\n",
        "df_plano.internetservice.unique()"
      ],
      "metadata": {
        "id": "wCx8KRhdkADp",
        "outputId": "865392dd-234f-4de0-8937-e3699ca7bfd2",
        "colab": {
          "base_uri": "https://localhost:8080/"
        }
      },
      "execution_count": 21,
      "outputs": [
        {
          "output_type": "execute_result",
          "data": {
            "text/plain": [
              "array(['DSL', 'Fibra óptica', 'No'], dtype=object)"
            ]
          },
          "metadata": {},
          "execution_count": 21
        }
      ]
    },
    {
      "cell_type": "code",
      "source": [
        "#Se remplazaron los valores de la columna paymentmethod por su traducción en español.\n",
        "df_plano.paymentmethod = df_plano.paymentmethod.apply(lambda x: x.replace('Mailed check','Cheque por correo').\n",
        "                                                      replace('Electronic check','Cheque electrónico').\n",
        "                                                      replace('Credit card (automatic)','Tarjeta de crédito (automático)').\n",
        "                                                      replace('Bank transfer (automatic)','Transferencia bancaria (automático)'))\n",
        "df_plano.paymentmethod.unique()"
      ],
      "metadata": {
        "id": "V-eEAFMwwSS0",
        "outputId": "71b18c79-d8b2-4e57-bd7c-750aaacfbaa1",
        "colab": {
          "base_uri": "https://localhost:8080/"
        }
      },
      "execution_count": 22,
      "outputs": [
        {
          "output_type": "execute_result",
          "data": {
            "text/plain": [
              "array(['Cheque por correo', 'Cheque electrónico',\n",
              "       'Tarjeta de crédito (automático)',\n",
              "       'Transferencia bancaria (automático)'], dtype=object)"
            ]
          },
          "metadata": {},
          "execution_count": 22
        }
      ]
    },
    {
      "cell_type": "code",
      "source": [
        "#Se remplazaron los valores de la columna contract por su traducción en español.\n",
        "df_plano.contract = df_plano.contract.apply(lambda x: x.replace('One year','Un año').\n",
        "                                            replace('Month-to-month', 'Mes a mes').\n",
        "                                            replace('Two year', 'Dos años'))\n",
        "df_plano.contract.unique()"
      ],
      "metadata": {
        "id": "uaFIk9o5wWiH",
        "outputId": "b00bcf6e-6587-468b-9910-7d41426ca079",
        "colab": {
          "base_uri": "https://localhost:8080/"
        }
      },
      "execution_count": 23,
      "outputs": [
        {
          "output_type": "execute_result",
          "data": {
            "text/plain": [
              "array(['Un año', 'Mes a mes', 'Dos años'], dtype=object)"
            ]
          },
          "metadata": {},
          "execution_count": 23
        }
      ]
    },
    {
      "cell_type": "markdown",
      "source": [
        "####Tipado de columnas booleanas"
      ],
      "metadata": {
        "id": "ElTAVq_Wyen1"
      }
    },
    {
      "cell_type": "code",
      "source": [
        "#Se convierten los valores de la columna \"seniorcitizen\".\n",
        "'''\n",
        "Se empleó el método .astype porque la columna tiene valores numéricos 0 y 1 que\n",
        "Pandas traduce automáticamente en False y True.\n",
        "'''\n",
        "df_plano.seniorcitizen = df_plano.seniorcitizen.astype('bool')\n",
        "df_plano.seniorcitizen.dtypes"
      ],
      "metadata": {
        "id": "ZLcP1f98yk1m",
        "outputId": "dcc43761-9c75-41ed-ffe4-3a1f681f5609",
        "colab": {
          "base_uri": "https://localhost:8080/"
        }
      },
      "execution_count": 24,
      "outputs": [
        {
          "output_type": "execute_result",
          "data": {
            "text/plain": [
              "dtype('bool')"
            ]
          },
          "metadata": {},
          "execution_count": 24
        }
      ]
    },
    {
      "cell_type": "code",
      "source": [
        "#Se convierten los valores de 11 columnas cuyos valores únicos fueron 'yes' y 'no'.\n",
        "columnas_bool = ['partner', 'dependents', 'phoneservice', 'multiplelines',\n",
        "                 'onlinesecurity', 'onlinebackup', 'deviceprotection',\n",
        "                 'techsupport','streamingtv', 'streamingmovies',\n",
        "                 'paperlessbilling']\n",
        "df_plano[columnas_bool] = df_plano[columnas_bool].map(lambda x: True if x == 'Yes' else False).astype('bool')\n",
        "df_plano[columnas_bool].dtypes"
      ],
      "metadata": {
        "id": "3jiAFLEA1pIT",
        "outputId": "db2bf8c2-b2b0-4f3a-f5e2-dcb9cd0f629e",
        "colab": {
          "base_uri": "https://localhost:8080/",
          "height": 429
        }
      },
      "execution_count": 25,
      "outputs": [
        {
          "output_type": "execute_result",
          "data": {
            "text/plain": [
              "partner             bool\n",
              "dependents          bool\n",
              "phoneservice        bool\n",
              "multiplelines       bool\n",
              "onlinesecurity      bool\n",
              "onlinebackup        bool\n",
              "deviceprotection    bool\n",
              "techsupport         bool\n",
              "streamingtv         bool\n",
              "streamingmovies     bool\n",
              "paperlessbilling    bool\n",
              "dtype: object"
            ],
            "text/html": [
              "<div>\n",
              "<style scoped>\n",
              "    .dataframe tbody tr th:only-of-type {\n",
              "        vertical-align: middle;\n",
              "    }\n",
              "\n",
              "    .dataframe tbody tr th {\n",
              "        vertical-align: top;\n",
              "    }\n",
              "\n",
              "    .dataframe thead th {\n",
              "        text-align: right;\n",
              "    }\n",
              "</style>\n",
              "<table border=\"1\" class=\"dataframe\">\n",
              "  <thead>\n",
              "    <tr style=\"text-align: right;\">\n",
              "      <th></th>\n",
              "      <th>0</th>\n",
              "    </tr>\n",
              "  </thead>\n",
              "  <tbody>\n",
              "    <tr>\n",
              "      <th>partner</th>\n",
              "      <td>bool</td>\n",
              "    </tr>\n",
              "    <tr>\n",
              "      <th>dependents</th>\n",
              "      <td>bool</td>\n",
              "    </tr>\n",
              "    <tr>\n",
              "      <th>phoneservice</th>\n",
              "      <td>bool</td>\n",
              "    </tr>\n",
              "    <tr>\n",
              "      <th>multiplelines</th>\n",
              "      <td>bool</td>\n",
              "    </tr>\n",
              "    <tr>\n",
              "      <th>onlinesecurity</th>\n",
              "      <td>bool</td>\n",
              "    </tr>\n",
              "    <tr>\n",
              "      <th>onlinebackup</th>\n",
              "      <td>bool</td>\n",
              "    </tr>\n",
              "    <tr>\n",
              "      <th>deviceprotection</th>\n",
              "      <td>bool</td>\n",
              "    </tr>\n",
              "    <tr>\n",
              "      <th>techsupport</th>\n",
              "      <td>bool</td>\n",
              "    </tr>\n",
              "    <tr>\n",
              "      <th>streamingtv</th>\n",
              "      <td>bool</td>\n",
              "    </tr>\n",
              "    <tr>\n",
              "      <th>streamingmovies</th>\n",
              "      <td>bool</td>\n",
              "    </tr>\n",
              "    <tr>\n",
              "      <th>paperlessbilling</th>\n",
              "      <td>bool</td>\n",
              "    </tr>\n",
              "  </tbody>\n",
              "</table>\n",
              "</div><br><label><b>dtype:</b> object</label>"
            ]
          },
          "metadata": {},
          "execution_count": 25
        }
      ]
    },
    {
      "cell_type": "markdown",
      "source": [
        "###Columnas de cuentas diarias y servicios contratados"
      ],
      "metadata": {
        "id": "KLOhhT1XDn0d"
      }
    },
    {
      "cell_type": "markdown",
      "source": [
        "####Columna nueva: Cuenta diaria"
      ],
      "metadata": {
        "id": "IjLDpYC04TQQ"
      }
    },
    {
      "cell_type": "code",
      "source": [
        "#Se calculan los valores de la columna nueva cuenta_diaria.\n",
        "df_plano['cuenta_diaria'] = df_plano.charges_monthly / 30\n",
        "df_plano['cuenta_diaria'].dtypes"
      ],
      "metadata": {
        "id": "jWu3CnWnDrU-",
        "outputId": "a3d9a2f3-1634-4c2a-aed5-f47d8ea4b046",
        "colab": {
          "base_uri": "https://localhost:8080/"
        }
      },
      "execution_count": 26,
      "outputs": [
        {
          "output_type": "execute_result",
          "data": {
            "text/plain": [
              "dtype('float64')"
            ]
          },
          "metadata": {},
          "execution_count": 26
        }
      ]
    },
    {
      "cell_type": "markdown",
      "source": [
        "####Columna nueva: Servicios contratados"
      ],
      "metadata": {
        "id": "EHFFsOzU4Xqj"
      }
    },
    {
      "cell_type": "code",
      "source": [
        "#Se calculan los valores de la columna nueva servicios_contratados.\n",
        "'''\n",
        "Se suma los valores en las columnas del tipo servicio con los valores tipo bool\n",
        "de una copia temporal de la columna internet.\n",
        "'''\n",
        "columnas_servicios = ['phoneservice', 'multiplelines', 'onlinesecurity',\n",
        "                      'onlinebackup', 'deviceprotection', 'techsupport',\n",
        "                      'streamingtv', 'streamingmovies']\n",
        "\n",
        "df_plano['servicios_contratados'] = df_plano[columnas_servicios].sum(axis=1) + df_plano.internetservice.apply(lambda x: True if x in {'DSL', 'Fibra óptica'} else False)\n",
        "df_plano['servicios_contratados'].dtypes"
      ],
      "metadata": {
        "id": "rAab4Cvu3j8Z",
        "outputId": "d2483748-4655-4aa3-8193-f3084b972211",
        "colab": {
          "base_uri": "https://localhost:8080/"
        }
      },
      "execution_count": 27,
      "outputs": [
        {
          "output_type": "execute_result",
          "data": {
            "text/plain": [
              "dtype('int64')"
            ]
          },
          "metadata": {},
          "execution_count": 27
        }
      ]
    },
    {
      "cell_type": "markdown",
      "source": [
        "##📊 Carga y análisis"
      ],
      "metadata": {
        "id": "6XnTC2NTmMRL"
      }
    },
    {
      "cell_type": "markdown",
      "source": [
        "###Carga"
      ],
      "metadata": {
        "id": "LsIlDfEThPc_"
      }
    },
    {
      "cell_type": "code",
      "source": [
        "#Se asigna la ubicación donde se descargará el df.\n",
        "path = '/content/df_plano.json'\n",
        "\n",
        "#Se exporta el df a un archivo json.\n",
        "df_plano.to_json(path)\n",
        "\n",
        "#Se lee el archivo para verificar que se cargó correctamente.\n",
        "df_plano_exp = pd.read_json(path)\n",
        "df_plano_exp.head(3)"
      ],
      "metadata": {
        "id": "eshijWxohSeP",
        "outputId": "318aa35d-f2d0-4a7d-fdfa-5de6706ff307",
        "colab": {
          "base_uri": "https://localhost:8080/",
          "height": 245
        }
      },
      "execution_count": 28,
      "outputs": [
        {
          "output_type": "execute_result",
          "data": {
            "text/plain": [
              "   customerid churn     gender  seniorcitizen  partner  dependents  tenure  \\\n",
              "0  0002-ORFBO    No   Femenino          False     True        True       9   \n",
              "1  0003-MKNFE    No  Masculino          False    False       False       9   \n",
              "2  0004-TLHLJ    Si  Masculino          False    False       False       4   \n",
              "\n",
              "   phoneservice  multiplelines internetservice  ...  techsupport  streamingtv  \\\n",
              "0          True          False             DSL  ...         True         True   \n",
              "1          True           True             DSL  ...        False        False   \n",
              "2          True          False    Fibra óptica  ...        False        False   \n",
              "\n",
              "   streamingmovies   contract  paperlessbilling       paymentmethod  \\\n",
              "0            False     Un año              True   Cheque por correo   \n",
              "1             True  Mes a mes             False   Cheque por correo   \n",
              "2            False  Mes a mes              True  Cheque electrónico   \n",
              "\n",
              "  charges_monthly  charges_total cuenta_diaria  servicios_contratados  \n",
              "0            65.6     593.299988      2.186667                      5  \n",
              "1            59.9     542.400024      1.996667                      4  \n",
              "2            73.9     280.850006      2.463333                      3  \n",
              "\n",
              "[3 rows x 23 columns]"
            ],
            "text/html": [
              "\n",
              "  <div id=\"df-3803dfd2-cd76-4390-8a2c-5cf305315f4a\" class=\"colab-df-container\">\n",
              "    <div>\n",
              "<style scoped>\n",
              "    .dataframe tbody tr th:only-of-type {\n",
              "        vertical-align: middle;\n",
              "    }\n",
              "\n",
              "    .dataframe tbody tr th {\n",
              "        vertical-align: top;\n",
              "    }\n",
              "\n",
              "    .dataframe thead th {\n",
              "        text-align: right;\n",
              "    }\n",
              "</style>\n",
              "<table border=\"1\" class=\"dataframe\">\n",
              "  <thead>\n",
              "    <tr style=\"text-align: right;\">\n",
              "      <th></th>\n",
              "      <th>customerid</th>\n",
              "      <th>churn</th>\n",
              "      <th>gender</th>\n",
              "      <th>seniorcitizen</th>\n",
              "      <th>partner</th>\n",
              "      <th>dependents</th>\n",
              "      <th>tenure</th>\n",
              "      <th>phoneservice</th>\n",
              "      <th>multiplelines</th>\n",
              "      <th>internetservice</th>\n",
              "      <th>...</th>\n",
              "      <th>techsupport</th>\n",
              "      <th>streamingtv</th>\n",
              "      <th>streamingmovies</th>\n",
              "      <th>contract</th>\n",
              "      <th>paperlessbilling</th>\n",
              "      <th>paymentmethod</th>\n",
              "      <th>charges_monthly</th>\n",
              "      <th>charges_total</th>\n",
              "      <th>cuenta_diaria</th>\n",
              "      <th>servicios_contratados</th>\n",
              "    </tr>\n",
              "  </thead>\n",
              "  <tbody>\n",
              "    <tr>\n",
              "      <th>0</th>\n",
              "      <td>0002-ORFBO</td>\n",
              "      <td>No</td>\n",
              "      <td>Femenino</td>\n",
              "      <td>False</td>\n",
              "      <td>True</td>\n",
              "      <td>True</td>\n",
              "      <td>9</td>\n",
              "      <td>True</td>\n",
              "      <td>False</td>\n",
              "      <td>DSL</td>\n",
              "      <td>...</td>\n",
              "      <td>True</td>\n",
              "      <td>True</td>\n",
              "      <td>False</td>\n",
              "      <td>Un año</td>\n",
              "      <td>True</td>\n",
              "      <td>Cheque por correo</td>\n",
              "      <td>65.6</td>\n",
              "      <td>593.299988</td>\n",
              "      <td>2.186667</td>\n",
              "      <td>5</td>\n",
              "    </tr>\n",
              "    <tr>\n",
              "      <th>1</th>\n",
              "      <td>0003-MKNFE</td>\n",
              "      <td>No</td>\n",
              "      <td>Masculino</td>\n",
              "      <td>False</td>\n",
              "      <td>False</td>\n",
              "      <td>False</td>\n",
              "      <td>9</td>\n",
              "      <td>True</td>\n",
              "      <td>True</td>\n",
              "      <td>DSL</td>\n",
              "      <td>...</td>\n",
              "      <td>False</td>\n",
              "      <td>False</td>\n",
              "      <td>True</td>\n",
              "      <td>Mes a mes</td>\n",
              "      <td>False</td>\n",
              "      <td>Cheque por correo</td>\n",
              "      <td>59.9</td>\n",
              "      <td>542.400024</td>\n",
              "      <td>1.996667</td>\n",
              "      <td>4</td>\n",
              "    </tr>\n",
              "    <tr>\n",
              "      <th>2</th>\n",
              "      <td>0004-TLHLJ</td>\n",
              "      <td>Si</td>\n",
              "      <td>Masculino</td>\n",
              "      <td>False</td>\n",
              "      <td>False</td>\n",
              "      <td>False</td>\n",
              "      <td>4</td>\n",
              "      <td>True</td>\n",
              "      <td>False</td>\n",
              "      <td>Fibra óptica</td>\n",
              "      <td>...</td>\n",
              "      <td>False</td>\n",
              "      <td>False</td>\n",
              "      <td>False</td>\n",
              "      <td>Mes a mes</td>\n",
              "      <td>True</td>\n",
              "      <td>Cheque electrónico</td>\n",
              "      <td>73.9</td>\n",
              "      <td>280.850006</td>\n",
              "      <td>2.463333</td>\n",
              "      <td>3</td>\n",
              "    </tr>\n",
              "  </tbody>\n",
              "</table>\n",
              "<p>3 rows × 23 columns</p>\n",
              "</div>\n",
              "    <div class=\"colab-df-buttons\">\n",
              "\n",
              "  <div class=\"colab-df-container\">\n",
              "    <button class=\"colab-df-convert\" onclick=\"convertToInteractive('df-3803dfd2-cd76-4390-8a2c-5cf305315f4a')\"\n",
              "            title=\"Convert this dataframe to an interactive table.\"\n",
              "            style=\"display:none;\">\n",
              "\n",
              "  <svg xmlns=\"http://www.w3.org/2000/svg\" height=\"24px\" viewBox=\"0 -960 960 960\">\n",
              "    <path d=\"M120-120v-720h720v720H120Zm60-500h600v-160H180v160Zm220 220h160v-160H400v160Zm0 220h160v-160H400v160ZM180-400h160v-160H180v160Zm440 0h160v-160H620v160ZM180-180h160v-160H180v160Zm440 0h160v-160H620v160Z\"/>\n",
              "  </svg>\n",
              "    </button>\n",
              "\n",
              "  <style>\n",
              "    .colab-df-container {\n",
              "      display:flex;\n",
              "      gap: 12px;\n",
              "    }\n",
              "\n",
              "    .colab-df-convert {\n",
              "      background-color: #E8F0FE;\n",
              "      border: none;\n",
              "      border-radius: 50%;\n",
              "      cursor: pointer;\n",
              "      display: none;\n",
              "      fill: #1967D2;\n",
              "      height: 32px;\n",
              "      padding: 0 0 0 0;\n",
              "      width: 32px;\n",
              "    }\n",
              "\n",
              "    .colab-df-convert:hover {\n",
              "      background-color: #E2EBFA;\n",
              "      box-shadow: 0px 1px 2px rgba(60, 64, 67, 0.3), 0px 1px 3px 1px rgba(60, 64, 67, 0.15);\n",
              "      fill: #174EA6;\n",
              "    }\n",
              "\n",
              "    .colab-df-buttons div {\n",
              "      margin-bottom: 4px;\n",
              "    }\n",
              "\n",
              "    [theme=dark] .colab-df-convert {\n",
              "      background-color: #3B4455;\n",
              "      fill: #D2E3FC;\n",
              "    }\n",
              "\n",
              "    [theme=dark] .colab-df-convert:hover {\n",
              "      background-color: #434B5C;\n",
              "      box-shadow: 0px 1px 3px 1px rgba(0, 0, 0, 0.15);\n",
              "      filter: drop-shadow(0px 1px 2px rgba(0, 0, 0, 0.3));\n",
              "      fill: #FFFFFF;\n",
              "    }\n",
              "  </style>\n",
              "\n",
              "    <script>\n",
              "      const buttonEl =\n",
              "        document.querySelector('#df-3803dfd2-cd76-4390-8a2c-5cf305315f4a button.colab-df-convert');\n",
              "      buttonEl.style.display =\n",
              "        google.colab.kernel.accessAllowed ? 'block' : 'none';\n",
              "\n",
              "      async function convertToInteractive(key) {\n",
              "        const element = document.querySelector('#df-3803dfd2-cd76-4390-8a2c-5cf305315f4a');\n",
              "        const dataTable =\n",
              "          await google.colab.kernel.invokeFunction('convertToInteractive',\n",
              "                                                    [key], {});\n",
              "        if (!dataTable) return;\n",
              "\n",
              "        const docLinkHtml = 'Like what you see? Visit the ' +\n",
              "          '<a target=\"_blank\" href=https://colab.research.google.com/notebooks/data_table.ipynb>data table notebook</a>'\n",
              "          + ' to learn more about interactive tables.';\n",
              "        element.innerHTML = '';\n",
              "        dataTable['output_type'] = 'display_data';\n",
              "        await google.colab.output.renderOutput(dataTable, element);\n",
              "        const docLink = document.createElement('div');\n",
              "        docLink.innerHTML = docLinkHtml;\n",
              "        element.appendChild(docLink);\n",
              "      }\n",
              "    </script>\n",
              "  </div>\n",
              "\n",
              "\n",
              "    <div id=\"df-152de03f-3620-4782-a202-8a68bd5df98d\">\n",
              "      <button class=\"colab-df-quickchart\" onclick=\"quickchart('df-152de03f-3620-4782-a202-8a68bd5df98d')\"\n",
              "                title=\"Suggest charts\"\n",
              "                style=\"display:none;\">\n",
              "\n",
              "<svg xmlns=\"http://www.w3.org/2000/svg\" height=\"24px\"viewBox=\"0 0 24 24\"\n",
              "     width=\"24px\">\n",
              "    <g>\n",
              "        <path d=\"M19 3H5c-1.1 0-2 .9-2 2v14c0 1.1.9 2 2 2h14c1.1 0 2-.9 2-2V5c0-1.1-.9-2-2-2zM9 17H7v-7h2v7zm4 0h-2V7h2v10zm4 0h-2v-4h2v4z\"/>\n",
              "    </g>\n",
              "</svg>\n",
              "      </button>\n",
              "\n",
              "<style>\n",
              "  .colab-df-quickchart {\n",
              "      --bg-color: #E8F0FE;\n",
              "      --fill-color: #1967D2;\n",
              "      --hover-bg-color: #E2EBFA;\n",
              "      --hover-fill-color: #174EA6;\n",
              "      --disabled-fill-color: #AAA;\n",
              "      --disabled-bg-color: #DDD;\n",
              "  }\n",
              "\n",
              "  [theme=dark] .colab-df-quickchart {\n",
              "      --bg-color: #3B4455;\n",
              "      --fill-color: #D2E3FC;\n",
              "      --hover-bg-color: #434B5C;\n",
              "      --hover-fill-color: #FFFFFF;\n",
              "      --disabled-bg-color: #3B4455;\n",
              "      --disabled-fill-color: #666;\n",
              "  }\n",
              "\n",
              "  .colab-df-quickchart {\n",
              "    background-color: var(--bg-color);\n",
              "    border: none;\n",
              "    border-radius: 50%;\n",
              "    cursor: pointer;\n",
              "    display: none;\n",
              "    fill: var(--fill-color);\n",
              "    height: 32px;\n",
              "    padding: 0;\n",
              "    width: 32px;\n",
              "  }\n",
              "\n",
              "  .colab-df-quickchart:hover {\n",
              "    background-color: var(--hover-bg-color);\n",
              "    box-shadow: 0 1px 2px rgba(60, 64, 67, 0.3), 0 1px 3px 1px rgba(60, 64, 67, 0.15);\n",
              "    fill: var(--button-hover-fill-color);\n",
              "  }\n",
              "\n",
              "  .colab-df-quickchart-complete:disabled,\n",
              "  .colab-df-quickchart-complete:disabled:hover {\n",
              "    background-color: var(--disabled-bg-color);\n",
              "    fill: var(--disabled-fill-color);\n",
              "    box-shadow: none;\n",
              "  }\n",
              "\n",
              "  .colab-df-spinner {\n",
              "    border: 2px solid var(--fill-color);\n",
              "    border-color: transparent;\n",
              "    border-bottom-color: var(--fill-color);\n",
              "    animation:\n",
              "      spin 1s steps(1) infinite;\n",
              "  }\n",
              "\n",
              "  @keyframes spin {\n",
              "    0% {\n",
              "      border-color: transparent;\n",
              "      border-bottom-color: var(--fill-color);\n",
              "      border-left-color: var(--fill-color);\n",
              "    }\n",
              "    20% {\n",
              "      border-color: transparent;\n",
              "      border-left-color: var(--fill-color);\n",
              "      border-top-color: var(--fill-color);\n",
              "    }\n",
              "    30% {\n",
              "      border-color: transparent;\n",
              "      border-left-color: var(--fill-color);\n",
              "      border-top-color: var(--fill-color);\n",
              "      border-right-color: var(--fill-color);\n",
              "    }\n",
              "    40% {\n",
              "      border-color: transparent;\n",
              "      border-right-color: var(--fill-color);\n",
              "      border-top-color: var(--fill-color);\n",
              "    }\n",
              "    60% {\n",
              "      border-color: transparent;\n",
              "      border-right-color: var(--fill-color);\n",
              "    }\n",
              "    80% {\n",
              "      border-color: transparent;\n",
              "      border-right-color: var(--fill-color);\n",
              "      border-bottom-color: var(--fill-color);\n",
              "    }\n",
              "    90% {\n",
              "      border-color: transparent;\n",
              "      border-bottom-color: var(--fill-color);\n",
              "    }\n",
              "  }\n",
              "</style>\n",
              "\n",
              "      <script>\n",
              "        async function quickchart(key) {\n",
              "          const quickchartButtonEl =\n",
              "            document.querySelector('#' + key + ' button');\n",
              "          quickchartButtonEl.disabled = true;  // To prevent multiple clicks.\n",
              "          quickchartButtonEl.classList.add('colab-df-spinner');\n",
              "          try {\n",
              "            const charts = await google.colab.kernel.invokeFunction(\n",
              "                'suggestCharts', [key], {});\n",
              "          } catch (error) {\n",
              "            console.error('Error during call to suggestCharts:', error);\n",
              "          }\n",
              "          quickchartButtonEl.classList.remove('colab-df-spinner');\n",
              "          quickchartButtonEl.classList.add('colab-df-quickchart-complete');\n",
              "        }\n",
              "        (() => {\n",
              "          let quickchartButtonEl =\n",
              "            document.querySelector('#df-152de03f-3620-4782-a202-8a68bd5df98d button');\n",
              "          quickchartButtonEl.style.display =\n",
              "            google.colab.kernel.accessAllowed ? 'block' : 'none';\n",
              "        })();\n",
              "      </script>\n",
              "    </div>\n",
              "\n",
              "    </div>\n",
              "  </div>\n"
            ],
            "application/vnd.google.colaboratory.intrinsic+json": {
              "type": "dataframe",
              "variable_name": "df_plano_exp"
            }
          },
          "metadata": {},
          "execution_count": 28
        }
      ]
    },
    {
      "cell_type": "markdown",
      "source": [
        "###Análisis descriptivo"
      ],
      "metadata": {
        "id": "snSDYwRYQAHZ"
      }
    },
    {
      "cell_type": "code",
      "source": [
        "df_plano.describe()"
      ],
      "metadata": {
        "id": "mqOljau2YpLX",
        "outputId": "4ba84ed7-aae1-410c-8c40-b02d7bee6020",
        "colab": {
          "base_uri": "https://localhost:8080/",
          "height": 300
        }
      },
      "execution_count": 29,
      "outputs": [
        {
          "output_type": "execute_result",
          "data": {
            "text/plain": [
              "            tenure  charges_monthly  charges_total  cuenta_diaria  \\\n",
              "count  7043.000000      7043.000000    7032.000000    7043.000000   \n",
              "mean     32.371149        64.761692    2283.300537       2.158723   \n",
              "std      24.559481        30.090047    2266.771729       1.003002   \n",
              "min       0.000000        18.250000      18.799999       0.608333   \n",
              "25%       9.000000        35.500000     401.450012       1.183333   \n",
              "50%      29.000000        70.350000    1397.475098       2.345000   \n",
              "75%      55.000000        89.850000    3794.737549       2.995000   \n",
              "max      72.000000       118.750000    8684.799805       3.958333   \n",
              "\n",
              "       servicios_contratados  \n",
              "count            7043.000000  \n",
              "mean                4.146244  \n",
              "std                 2.312720  \n",
              "min                 1.000000  \n",
              "25%                 2.000000  \n",
              "50%                 4.000000  \n",
              "75%                 6.000000  \n",
              "max                 9.000000  "
            ],
            "text/html": [
              "\n",
              "  <div id=\"df-514f7111-1de7-4f80-8faf-60c86b75aee3\" class=\"colab-df-container\">\n",
              "    <div>\n",
              "<style scoped>\n",
              "    .dataframe tbody tr th:only-of-type {\n",
              "        vertical-align: middle;\n",
              "    }\n",
              "\n",
              "    .dataframe tbody tr th {\n",
              "        vertical-align: top;\n",
              "    }\n",
              "\n",
              "    .dataframe thead th {\n",
              "        text-align: right;\n",
              "    }\n",
              "</style>\n",
              "<table border=\"1\" class=\"dataframe\">\n",
              "  <thead>\n",
              "    <tr style=\"text-align: right;\">\n",
              "      <th></th>\n",
              "      <th>tenure</th>\n",
              "      <th>charges_monthly</th>\n",
              "      <th>charges_total</th>\n",
              "      <th>cuenta_diaria</th>\n",
              "      <th>servicios_contratados</th>\n",
              "    </tr>\n",
              "  </thead>\n",
              "  <tbody>\n",
              "    <tr>\n",
              "      <th>count</th>\n",
              "      <td>7043.000000</td>\n",
              "      <td>7043.000000</td>\n",
              "      <td>7032.000000</td>\n",
              "      <td>7043.000000</td>\n",
              "      <td>7043.000000</td>\n",
              "    </tr>\n",
              "    <tr>\n",
              "      <th>mean</th>\n",
              "      <td>32.371149</td>\n",
              "      <td>64.761692</td>\n",
              "      <td>2283.300537</td>\n",
              "      <td>2.158723</td>\n",
              "      <td>4.146244</td>\n",
              "    </tr>\n",
              "    <tr>\n",
              "      <th>std</th>\n",
              "      <td>24.559481</td>\n",
              "      <td>30.090047</td>\n",
              "      <td>2266.771729</td>\n",
              "      <td>1.003002</td>\n",
              "      <td>2.312720</td>\n",
              "    </tr>\n",
              "    <tr>\n",
              "      <th>min</th>\n",
              "      <td>0.000000</td>\n",
              "      <td>18.250000</td>\n",
              "      <td>18.799999</td>\n",
              "      <td>0.608333</td>\n",
              "      <td>1.000000</td>\n",
              "    </tr>\n",
              "    <tr>\n",
              "      <th>25%</th>\n",
              "      <td>9.000000</td>\n",
              "      <td>35.500000</td>\n",
              "      <td>401.450012</td>\n",
              "      <td>1.183333</td>\n",
              "      <td>2.000000</td>\n",
              "    </tr>\n",
              "    <tr>\n",
              "      <th>50%</th>\n",
              "      <td>29.000000</td>\n",
              "      <td>70.350000</td>\n",
              "      <td>1397.475098</td>\n",
              "      <td>2.345000</td>\n",
              "      <td>4.000000</td>\n",
              "    </tr>\n",
              "    <tr>\n",
              "      <th>75%</th>\n",
              "      <td>55.000000</td>\n",
              "      <td>89.850000</td>\n",
              "      <td>3794.737549</td>\n",
              "      <td>2.995000</td>\n",
              "      <td>6.000000</td>\n",
              "    </tr>\n",
              "    <tr>\n",
              "      <th>max</th>\n",
              "      <td>72.000000</td>\n",
              "      <td>118.750000</td>\n",
              "      <td>8684.799805</td>\n",
              "      <td>3.958333</td>\n",
              "      <td>9.000000</td>\n",
              "    </tr>\n",
              "  </tbody>\n",
              "</table>\n",
              "</div>\n",
              "    <div class=\"colab-df-buttons\">\n",
              "\n",
              "  <div class=\"colab-df-container\">\n",
              "    <button class=\"colab-df-convert\" onclick=\"convertToInteractive('df-514f7111-1de7-4f80-8faf-60c86b75aee3')\"\n",
              "            title=\"Convert this dataframe to an interactive table.\"\n",
              "            style=\"display:none;\">\n",
              "\n",
              "  <svg xmlns=\"http://www.w3.org/2000/svg\" height=\"24px\" viewBox=\"0 -960 960 960\">\n",
              "    <path d=\"M120-120v-720h720v720H120Zm60-500h600v-160H180v160Zm220 220h160v-160H400v160Zm0 220h160v-160H400v160ZM180-400h160v-160H180v160Zm440 0h160v-160H620v160ZM180-180h160v-160H180v160Zm440 0h160v-160H620v160Z\"/>\n",
              "  </svg>\n",
              "    </button>\n",
              "\n",
              "  <style>\n",
              "    .colab-df-container {\n",
              "      display:flex;\n",
              "      gap: 12px;\n",
              "    }\n",
              "\n",
              "    .colab-df-convert {\n",
              "      background-color: #E8F0FE;\n",
              "      border: none;\n",
              "      border-radius: 50%;\n",
              "      cursor: pointer;\n",
              "      display: none;\n",
              "      fill: #1967D2;\n",
              "      height: 32px;\n",
              "      padding: 0 0 0 0;\n",
              "      width: 32px;\n",
              "    }\n",
              "\n",
              "    .colab-df-convert:hover {\n",
              "      background-color: #E2EBFA;\n",
              "      box-shadow: 0px 1px 2px rgba(60, 64, 67, 0.3), 0px 1px 3px 1px rgba(60, 64, 67, 0.15);\n",
              "      fill: #174EA6;\n",
              "    }\n",
              "\n",
              "    .colab-df-buttons div {\n",
              "      margin-bottom: 4px;\n",
              "    }\n",
              "\n",
              "    [theme=dark] .colab-df-convert {\n",
              "      background-color: #3B4455;\n",
              "      fill: #D2E3FC;\n",
              "    }\n",
              "\n",
              "    [theme=dark] .colab-df-convert:hover {\n",
              "      background-color: #434B5C;\n",
              "      box-shadow: 0px 1px 3px 1px rgba(0, 0, 0, 0.15);\n",
              "      filter: drop-shadow(0px 1px 2px rgba(0, 0, 0, 0.3));\n",
              "      fill: #FFFFFF;\n",
              "    }\n",
              "  </style>\n",
              "\n",
              "    <script>\n",
              "      const buttonEl =\n",
              "        document.querySelector('#df-514f7111-1de7-4f80-8faf-60c86b75aee3 button.colab-df-convert');\n",
              "      buttonEl.style.display =\n",
              "        google.colab.kernel.accessAllowed ? 'block' : 'none';\n",
              "\n",
              "      async function convertToInteractive(key) {\n",
              "        const element = document.querySelector('#df-514f7111-1de7-4f80-8faf-60c86b75aee3');\n",
              "        const dataTable =\n",
              "          await google.colab.kernel.invokeFunction('convertToInteractive',\n",
              "                                                    [key], {});\n",
              "        if (!dataTable) return;\n",
              "\n",
              "        const docLinkHtml = 'Like what you see? Visit the ' +\n",
              "          '<a target=\"_blank\" href=https://colab.research.google.com/notebooks/data_table.ipynb>data table notebook</a>'\n",
              "          + ' to learn more about interactive tables.';\n",
              "        element.innerHTML = '';\n",
              "        dataTable['output_type'] = 'display_data';\n",
              "        await google.colab.output.renderOutput(dataTable, element);\n",
              "        const docLink = document.createElement('div');\n",
              "        docLink.innerHTML = docLinkHtml;\n",
              "        element.appendChild(docLink);\n",
              "      }\n",
              "    </script>\n",
              "  </div>\n",
              "\n",
              "\n",
              "    <div id=\"df-df9d2a57-88fb-4fbe-9ca1-d470543e1600\">\n",
              "      <button class=\"colab-df-quickchart\" onclick=\"quickchart('df-df9d2a57-88fb-4fbe-9ca1-d470543e1600')\"\n",
              "                title=\"Suggest charts\"\n",
              "                style=\"display:none;\">\n",
              "\n",
              "<svg xmlns=\"http://www.w3.org/2000/svg\" height=\"24px\"viewBox=\"0 0 24 24\"\n",
              "     width=\"24px\">\n",
              "    <g>\n",
              "        <path d=\"M19 3H5c-1.1 0-2 .9-2 2v14c0 1.1.9 2 2 2h14c1.1 0 2-.9 2-2V5c0-1.1-.9-2-2-2zM9 17H7v-7h2v7zm4 0h-2V7h2v10zm4 0h-2v-4h2v4z\"/>\n",
              "    </g>\n",
              "</svg>\n",
              "      </button>\n",
              "\n",
              "<style>\n",
              "  .colab-df-quickchart {\n",
              "      --bg-color: #E8F0FE;\n",
              "      --fill-color: #1967D2;\n",
              "      --hover-bg-color: #E2EBFA;\n",
              "      --hover-fill-color: #174EA6;\n",
              "      --disabled-fill-color: #AAA;\n",
              "      --disabled-bg-color: #DDD;\n",
              "  }\n",
              "\n",
              "  [theme=dark] .colab-df-quickchart {\n",
              "      --bg-color: #3B4455;\n",
              "      --fill-color: #D2E3FC;\n",
              "      --hover-bg-color: #434B5C;\n",
              "      --hover-fill-color: #FFFFFF;\n",
              "      --disabled-bg-color: #3B4455;\n",
              "      --disabled-fill-color: #666;\n",
              "  }\n",
              "\n",
              "  .colab-df-quickchart {\n",
              "    background-color: var(--bg-color);\n",
              "    border: none;\n",
              "    border-radius: 50%;\n",
              "    cursor: pointer;\n",
              "    display: none;\n",
              "    fill: var(--fill-color);\n",
              "    height: 32px;\n",
              "    padding: 0;\n",
              "    width: 32px;\n",
              "  }\n",
              "\n",
              "  .colab-df-quickchart:hover {\n",
              "    background-color: var(--hover-bg-color);\n",
              "    box-shadow: 0 1px 2px rgba(60, 64, 67, 0.3), 0 1px 3px 1px rgba(60, 64, 67, 0.15);\n",
              "    fill: var(--button-hover-fill-color);\n",
              "  }\n",
              "\n",
              "  .colab-df-quickchart-complete:disabled,\n",
              "  .colab-df-quickchart-complete:disabled:hover {\n",
              "    background-color: var(--disabled-bg-color);\n",
              "    fill: var(--disabled-fill-color);\n",
              "    box-shadow: none;\n",
              "  }\n",
              "\n",
              "  .colab-df-spinner {\n",
              "    border: 2px solid var(--fill-color);\n",
              "    border-color: transparent;\n",
              "    border-bottom-color: var(--fill-color);\n",
              "    animation:\n",
              "      spin 1s steps(1) infinite;\n",
              "  }\n",
              "\n",
              "  @keyframes spin {\n",
              "    0% {\n",
              "      border-color: transparent;\n",
              "      border-bottom-color: var(--fill-color);\n",
              "      border-left-color: var(--fill-color);\n",
              "    }\n",
              "    20% {\n",
              "      border-color: transparent;\n",
              "      border-left-color: var(--fill-color);\n",
              "      border-top-color: var(--fill-color);\n",
              "    }\n",
              "    30% {\n",
              "      border-color: transparent;\n",
              "      border-left-color: var(--fill-color);\n",
              "      border-top-color: var(--fill-color);\n",
              "      border-right-color: var(--fill-color);\n",
              "    }\n",
              "    40% {\n",
              "      border-color: transparent;\n",
              "      border-right-color: var(--fill-color);\n",
              "      border-top-color: var(--fill-color);\n",
              "    }\n",
              "    60% {\n",
              "      border-color: transparent;\n",
              "      border-right-color: var(--fill-color);\n",
              "    }\n",
              "    80% {\n",
              "      border-color: transparent;\n",
              "      border-right-color: var(--fill-color);\n",
              "      border-bottom-color: var(--fill-color);\n",
              "    }\n",
              "    90% {\n",
              "      border-color: transparent;\n",
              "      border-bottom-color: var(--fill-color);\n",
              "    }\n",
              "  }\n",
              "</style>\n",
              "\n",
              "      <script>\n",
              "        async function quickchart(key) {\n",
              "          const quickchartButtonEl =\n",
              "            document.querySelector('#' + key + ' button');\n",
              "          quickchartButtonEl.disabled = true;  // To prevent multiple clicks.\n",
              "          quickchartButtonEl.classList.add('colab-df-spinner');\n",
              "          try {\n",
              "            const charts = await google.colab.kernel.invokeFunction(\n",
              "                'suggestCharts', [key], {});\n",
              "          } catch (error) {\n",
              "            console.error('Error during call to suggestCharts:', error);\n",
              "          }\n",
              "          quickchartButtonEl.classList.remove('colab-df-spinner');\n",
              "          quickchartButtonEl.classList.add('colab-df-quickchart-complete');\n",
              "        }\n",
              "        (() => {\n",
              "          let quickchartButtonEl =\n",
              "            document.querySelector('#df-df9d2a57-88fb-4fbe-9ca1-d470543e1600 button');\n",
              "          quickchartButtonEl.style.display =\n",
              "            google.colab.kernel.accessAllowed ? 'block' : 'none';\n",
              "        })();\n",
              "      </script>\n",
              "    </div>\n",
              "\n",
              "    </div>\n",
              "  </div>\n"
            ],
            "application/vnd.google.colaboratory.intrinsic+json": {
              "type": "dataframe",
              "summary": "{\n  \"name\": \"df_plano\",\n  \"rows\": 8,\n  \"fields\": [\n    {\n      \"column\": \"tenure\",\n      \"properties\": {\n        \"dtype\": \"number\",\n        \"std\": 2478.9752758409018,\n        \"min\": 0.0,\n        \"max\": 7043.0,\n        \"num_unique_values\": 8,\n        \"samples\": [\n          32.37114865824223,\n          29.0,\n          7043.0\n        ],\n        \"semantic_type\": \"\",\n        \"description\": \"\"\n      }\n    },\n    {\n      \"column\": \"charges_monthly\",\n      \"properties\": {\n        \"dtype\": \"number\",\n        \"std\": 2468.7047672837775,\n        \"min\": 18.25,\n        \"max\": 7043.0,\n        \"num_unique_values\": 8,\n        \"samples\": [\n          64.76169246059918,\n          70.35,\n          7043.0\n        ],\n        \"semantic_type\": \"\",\n        \"description\": \"\"\n      }\n    },\n    {\n      \"column\": \"charges_total\",\n      \"properties\": {\n        \"dtype\": \"number\",\n        \"std\": 3117.3128670550104,\n        \"min\": 18.799999237060547,\n        \"max\": 8684.7998046875,\n        \"num_unique_values\": 8,\n        \"samples\": [\n          2283.300537109375,\n          1397.47509765625,\n          7032.0\n        ],\n        \"semantic_type\": \"\",\n        \"description\": \"\"\n      }\n    },\n    {\n      \"column\": \"cuenta_diaria\",\n      \"properties\": {\n        \"dtype\": \"number\",\n        \"std\": 2489.3569547105258,\n        \"min\": 0.6083333333333333,\n        \"max\": 7043.0,\n        \"num_unique_values\": 8,\n        \"samples\": [\n          2.1587230820199723,\n          2.3449999999999998,\n          7043.0\n        ],\n        \"semantic_type\": \"\",\n        \"description\": \"\"\n      }\n    },\n    {\n      \"column\": \"servicios_contratados\",\n      \"properties\": {\n        \"dtype\": \"number\",\n        \"std\": 2488.6404221066077,\n        \"min\": 1.0,\n        \"max\": 7043.0,\n        \"num_unique_values\": 8,\n        \"samples\": [\n          4.146244498083203,\n          4.0,\n          7043.0\n        ],\n        \"semantic_type\": \"\",\n        \"description\": \"\"\n      }\n    }\n  ]\n}"
            }
          },
          "metadata": {},
          "execution_count": 29
        }
      ]
    },
    {
      "cell_type": "markdown",
      "source": [
        "###Distribución de evasión\n",
        "En esta sección, se definió la función **`agrupar_prob`** que permite generar dataframes derivados de df_plano donde los índices son variables de agrupamiento y la columna es la probabilidad de churn. Es así que se empleó la **función** e iteraciones **for** para generar listas de dataframes que agrupan la **probabilidad de evasión** por **variables categóricas** y **variables numéricas**."
      ],
      "metadata": {
        "id": "71QgarS4QHLC"
      }
    },
    {
      "cell_type": "markdown",
      "source": [
        "####Función **`agrupar_prob`**"
      ],
      "metadata": {
        "id": "wWmUxR7HT9DQ"
      }
    },
    {
      "cell_type": "code",
      "source": [
        "def agrupar_prob(data: pd.core.frame.DataFrame, cols: list, col_unstack: str, tag_prob: str, name_prob: str) -> pd.core.frame.DataFrame:\n",
        "  '''\n",
        "  Función que devuelve un dataframe con el cálculo de probabilidad de una\n",
        "  variable categórica por cada valor de una o más columnas del dataframe\n",
        "  original.\n",
        "\n",
        "  data: pd.core.frame.DataFrame\n",
        "    Dataframe con los datos originales.\n",
        "  cols: list\n",
        "    Lista con los nombres de las columnas que se agruparán. El último nombre\n",
        "    debe ser el de la columna que contiene los valores de probabilidad.\n",
        "    Ejemplo: Si se calcula la probabilidad de churn, el último nombre de la\n",
        "    lista debe coincidir con el de la columna que contiene las etiquetas de \"Si\"\n",
        "    dejo o \"No\" dejo el cliente la empresa.\n",
        "  col_unstack: str\n",
        "    Nombre de la columna que contiene los valores de probabilidad.\n",
        "    Ejemplo: 'churn'.\n",
        "  tag_prob: str\n",
        "    Nombre del valor que se contará para calcular la probabilidad.\n",
        "    Ejemplo: Si se desea calcular la probabilidad de Churn, entonces se\n",
        "    escribirá 'Si'.\n",
        "  name_prob: str\n",
        "    Nombre de la probabilidad calculada.\n",
        "    Ejemplo: 'churn rate'.\n",
        "  return = percentdf: pd.core.frame.DataFrame\n",
        "    Dataframe con las probabilidades calculadas por cada valor de las columnas\n",
        "    de agrupamiento.\n",
        "  '''\n",
        "  if cols[-1] == col_unstack:\n",
        "    '''\n",
        "    Las variables de agrupamiento se convierten en índice múltiples de la serie, y\n",
        "    los valores son la cantidad de registros en cada combinación de índices.\n",
        "    '''\n",
        "    groupedserie = data.groupby(by=cols).size()\n",
        "    '''\n",
        "    Se convierten los valores del último índice en columnas del dataframe.\n",
        "    Se completa con cero las celdas donde hay valores NaN.\n",
        "    '''\n",
        "    unstackdf = groupedserie.unstack(level=cols[-1], fill_value=0)\n",
        "    percentdf = (unstackdf[tag_prob]/unstackdf.sum(axis=1))*100\n",
        "    percentdf.name = name_prob\n",
        "    return percentdf\n",
        "\n",
        "  else:\n",
        "    print(f'Error {cols[-1]} ≠ {col_unstack}. El último elemento de la lista correspondiente al parámetro \"cols\" debe ser igual al valor del parámetro \"col_unstack\"')"
      ],
      "metadata": {
        "id": "gZiykW960_5p"
      },
      "execution_count": 30,
      "outputs": []
    },
    {
      "cell_type": "markdown",
      "source": [
        "####Listas para el cálculo de probabilidad de evasión\n",
        "Se generaron listas de listas con los nombres de las variables que se usarán como **parámetros de la función `agrupar_prob`** en el análisis cualitativo y cuantitativo."
      ],
      "metadata": {
        "id": "L1rv0weMURlL"
      }
    },
    {
      "cell_type": "code",
      "source": [
        "'''\n",
        "Se escriben listas con las columnas que se emplearán en el análisis de\n",
        "probabilidad de Churn según variables categóricas y numéricas.\n",
        "'''\n",
        "cols_sociales = ['gender','seniorcitizen','partner','dependents']\n",
        "cols_negocio = ['paymentmethod','contract','paperlessbilling']\n",
        "cols_numericas = ['tenure','cuenta_diaria', 'servicios_contratados']\n",
        "\n",
        "'''\n",
        "Se crean dos listas vacías, la primera contendrá listas con el nombre de\n",
        "columnas cualitativas y la segunda contendrán listas con los nombres de\n",
        "columnas cuantitativas.\n",
        "'''\n",
        "listas_cols_cualitativas = []\n",
        "listas_cols_cuantitativas = []"
      ],
      "metadata": {
        "id": "zGw0Nvi62p5j"
      },
      "execution_count": 31,
      "outputs": []
    },
    {
      "cell_type": "code",
      "source": [
        "'''\n",
        "Mediante un ciclo for, se generan 3 listas cuyo último elemento es el nombre de\n",
        "la columna 'churn' precedido por el nombre de una variable numérica.\n",
        "'''\n",
        "for i in range(3):\n",
        "  lista = ['churn']\n",
        "  lista.insert(0, cols_numericas[i]) #Se inserta el nombre de la columna numérica en la posición inicial de la lista.\n",
        "  listas_cols_cuantitativas.append(lista) #Se añade la lista a la variables que contendrán las listas de columnas cuantitativas.\n",
        "\n",
        "#Se verificar el contenido de la variable listas_cols_cuantitativas.\n",
        "listas_cols_cuantitativas"
      ],
      "metadata": {
        "colab": {
          "base_uri": "https://localhost:8080/"
        },
        "id": "cB5WFno-6SPf",
        "outputId": "e0500ede-6654-47be-ceeb-886f69824aee"
      },
      "execution_count": 32,
      "outputs": [
        {
          "output_type": "execute_result",
          "data": {
            "text/plain": [
              "[['tenure', 'churn'],\n",
              " ['cuenta_diaria', 'churn'],\n",
              " ['servicios_contratados', 'churn']]"
            ]
          },
          "metadata": {},
          "execution_count": 32
        }
      ]
    },
    {
      "cell_type": "code",
      "source": [
        "'''\n",
        "Mediante un ciclo for y dos contadores, se generan 12 listas cuyo último\n",
        "elemento es el nombre d ela columna 'churn' precedidos por variables\n",
        "categóricas: una variable de tipo 'negocio' y otra de tipo 'social'.\n",
        "'''\n",
        "contador1 = 0 #Servirá para alterar el primer elemento de la lista.\n",
        "contador2 = 0 #Servirá para alterar el segundo elemento de la lista.\n",
        "for i in range(15): #Se itera 15 veces, entre 0 y 14, porque se desean 12 listas generadas con el bloque if y se ejecutará 3 veces el bloque else.\n",
        "  if contador1 <4: #El contador asume valores entre 0 y 3, que son los índices de los elementos en la lista de variables sociales.\n",
        "    lista = ['churn']\n",
        "    lista.insert(0, cols_negocio[contador2]) #Se añade la variable de negocio al comienzo de la lista.\n",
        "    lista.insert(0, cols_sociales[contador1]) #Sobre lo anterior, se añade la variable social al comienzo de la lista.\n",
        "    listas_cols_cualitativas.append(lista)\n",
        "    contador1 += 1 #En cada iteración, mientras el contador 1 sea como máximo 3, se suma 1.\n",
        "  else:\n",
        "    contador1 = 0 #Cuando el contador 1 es igual a 4, vuelve a cero. Esto permitirá combinar todas las variables sociales con la nueva variable de negocio de la siguiente iteración.\n",
        "    contador2 += 1 #Cuando el contador 1 es igual a 4, el contador 2 avanza en 1. Esto cambiará la variable de negocio (segundo elemento de la lista) en la siguiente iteración.\n",
        "\n",
        "listas_cols_cualitativas"
      ],
      "metadata": {
        "colab": {
          "base_uri": "https://localhost:8080/"
        },
        "id": "ZDqvt0e_6WOz",
        "outputId": "cd8cd3de-d00b-4d68-dda7-68d73973551a"
      },
      "execution_count": 33,
      "outputs": [
        {
          "output_type": "execute_result",
          "data": {
            "text/plain": [
              "[['gender', 'paymentmethod', 'churn'],\n",
              " ['seniorcitizen', 'paymentmethod', 'churn'],\n",
              " ['partner', 'paymentmethod', 'churn'],\n",
              " ['dependents', 'paymentmethod', 'churn'],\n",
              " ['gender', 'contract', 'churn'],\n",
              " ['seniorcitizen', 'contract', 'churn'],\n",
              " ['partner', 'contract', 'churn'],\n",
              " ['dependents', 'contract', 'churn'],\n",
              " ['gender', 'paperlessbilling', 'churn'],\n",
              " ['seniorcitizen', 'paperlessbilling', 'churn'],\n",
              " ['partner', 'paperlessbilling', 'churn'],\n",
              " ['dependents', 'paperlessbilling', 'churn']]"
            ]
          },
          "metadata": {},
          "execution_count": 33
        }
      ]
    },
    {
      "cell_type": "markdown",
      "source": [
        "####Dataframes agrupados\n",
        "Se generaron 12 dataframes que agrupan la probabilidad de evasión por variables categóricas, y 3 dataframes que agrupan la probabilidad de evasión variables numéricas."
      ],
      "metadata": {
        "id": "l53ESyN4YKeP"
      }
    },
    {
      "cell_type": "code",
      "source": [
        "#Se crearon listas vacías para almacenar los dataframes.\n",
        "df_agrupados_cuali = []\n",
        "df_agrupados_cuanti = []"
      ],
      "metadata": {
        "id": "lvWPr96MY2v_"
      },
      "execution_count": 50,
      "outputs": []
    },
    {
      "cell_type": "code",
      "source": [
        "#Se añadieron los dataframe agrupados por variables cualitativas.\n",
        "for i in range(len(listas_cols_cualitativas)):\n",
        "  df = agrupar_prob(df_plano, listas_cols_cualitativas[i], 'churn', 'Si', 'churn_rate')\n",
        "  df_agrupados_cuali.append(df)"
      ],
      "metadata": {
        "id": "q8SlJkN8ZgpT"
      },
      "execution_count": 51,
      "outputs": []
    },
    {
      "cell_type": "code",
      "source": [
        "#Se verifica la lista con los dataframes generados.\n",
        "df_agrupados_cuali"
      ],
      "metadata": {
        "id": "VsVC87KQalQ1",
        "outputId": "9ddb1ffd-25d3-4264-dce7-487b5f34fac9",
        "colab": {
          "base_uri": "https://localhost:8080/"
        }
      },
      "execution_count": 54,
      "outputs": [
        {
          "output_type": "execute_result",
          "data": {
            "text/plain": [
              "[gender     paymentmethod                      \n",
              " Femenino   Cheque electrónico                     44.615385\n",
              "            Cheque por correo                      19.280206\n",
              "            Tarjeta de crédito (automático)        17.420213\n",
              "            Transferencia bancaria (automático)    17.258883\n",
              " Masculino  Cheque electrónico                     45.941423\n",
              "            Cheque por correo                      18.944844\n",
              "            Tarjeta de crédito (automático)        13.116883\n",
              "            Transferencia bancaria (automático)    16.137566\n",
              " Name: churn_rate, dtype: float64,\n",
              " seniorcitizen  paymentmethod                      \n",
              " False          Cheque electrónico                     42.574816\n",
              "                Cheque por correo                      17.391304\n",
              "                Tarjeta de crédito (automático)        13.066872\n",
              "                Transferencia bancaria (automático)    15.636918\n",
              " True           Cheque electrónico                     53.367003\n",
              "                Cheque por correo                      46.808511\n",
              "                Tarjeta de crédito (automático)        28.054299\n",
              "                Transferencia bancaria (automático)    22.746781\n",
              " Name: churn_rate, dtype: float64,\n",
              " partner  paymentmethod                      \n",
              " False    Cheque electrónico                     50.807636\n",
              "          Cheque por correo                      23.921971\n",
              "          Tarjeta de crédito (automático)        21.107784\n",
              "          Transferencia bancaria (automático)    21.036107\n",
              " True     Cheque electrónico                     37.786640\n",
              "          Cheque por correo                      11.755486\n",
              "          Tarjeta de crédito (automático)        10.655738\n",
              "          Transferencia bancaria (automático)    13.671444\n",
              " Name: churn_rate, dtype: float64,\n",
              " dependents  paymentmethod                      \n",
              " False       Cheque electrónico                     48.621421\n",
              "             Cheque por correo                      23.069590\n",
              "             Tarjeta de crédito (automático)        18.965517\n",
              "             Transferencia bancaria (automático)    19.466403\n",
              " True        Cheque electrónico                     32.150313\n",
              "             Cheque por correo                      11.722913\n",
              "             Tarjeta de crédito (automático)         8.395522\n",
              "             Transferencia bancaria (automático)    11.466165\n",
              " Name: churn_rate, dtype: float64,\n",
              " gender     contract \n",
              " Femenino   Dos años      2.603550\n",
              "            Mes a mes    43.740260\n",
              "            Un año       10.445682\n",
              " Masculino  Dos años      3.058824\n",
              "            Mes a mes    41.692308\n",
              "            Un año       12.052980\n",
              " Name: churn_rate, dtype: float64,\n",
              " seniorcitizen  contract \n",
              " False          Dos años      2.709677\n",
              "                Mes a mes    39.569752\n",
              "                Un año       10.678098\n",
              " True           Dos años      4.137931\n",
              "                Mes a mes    54.646840\n",
              "                Un año       15.263158\n",
              " Name: churn_rate, dtype: float64,\n",
              " partner  contract \n",
              " False    Dos años      3.379722\n",
              "          Mes a mes    44.689379\n",
              "          Un año       10.575428\n",
              " True     Dos años      2.600671\n",
              "          Mes a mes    39.130435\n",
              "          Un año       11.807229\n",
              " Name: churn_rate, dtype: float64,\n",
              " dependents  contract \n",
              " False       Dos años      3.314917\n",
              "             Mes a mes    45.236552\n",
              "             Un año       12.420382\n",
              " True        Dos años      2.278481\n",
              "             Mes a mes    32.826362\n",
              "             Un año        9.227872\n",
              " Name: churn_rate, dtype: float64,\n",
              " gender     paperlessbilling\n",
              " Femenino   False               17.118402\n",
              "            True                33.509108\n",
              " Masculino  False               15.578231\n",
              "            True                33.621103\n",
              " Name: churn_rate, dtype: float64,\n",
              " seniorcitizen  paperlessbilling\n",
              " False          False               15.003837\n",
              "                True                30.409712\n",
              " True           False               29.323308\n",
              "                True                45.433790\n",
              " Name: churn_rate, dtype: float64,\n",
              " partner  paperlessbilling\n",
              " False    False               21.041809\n",
              "          True                40.925756\n",
              " True     False               11.464968\n",
              "          True                25.490196\n",
              " Name: churn_rate, dtype: float64,\n",
              " dependents  paperlessbilling\n",
              " False       False               19.673025\n",
              "             True                38.153648\n",
              " True        False               10.414658\n",
              "             True                20.316869\n",
              " Name: churn_rate, dtype: float64]"
            ]
          },
          "metadata": {},
          "execution_count": 54
        }
      ]
    },
    {
      "cell_type": "code",
      "source": [
        "#Se añadieron los dataframe agrupados por variables cuantitativas.\n",
        "for i in range(len(listas_cols_cuantitativas)):\n",
        "  df = agrupar_prob(df_plano, listas_cols_cuantitativas[i], 'churn', 'Si', 'churn_rate')\n",
        "  df_agrupados_cuanti.append(df)"
      ],
      "metadata": {
        "id": "urcdDz1oZpxF"
      },
      "execution_count": 55,
      "outputs": []
    },
    {
      "cell_type": "code",
      "source": [
        "#Se verifica la lista con los dataframes generados.\n",
        "df_agrupados_cuanti"
      ],
      "metadata": {
        "id": "dND3-3tSbQgC",
        "outputId": "10b6d286-fb60-4bc3-e437-d9b4ed5d7960",
        "colab": {
          "base_uri": "https://localhost:8080/"
        }
      },
      "execution_count": 56,
      "outputs": [
        {
          "output_type": "execute_result",
          "data": {
            "text/plain": [
              "[tenure\n",
              " 0      0.000000\n",
              " 1     61.990212\n",
              " 2     51.680672\n",
              " 3     47.000000\n",
              " 4     47.159091\n",
              "         ...    \n",
              " 68     9.000000\n",
              " 69     8.421053\n",
              " 70     9.243697\n",
              " 71     3.529412\n",
              " 72     1.657459\n",
              " Name: churn_rate, Length: 73, dtype: float64,\n",
              " cuenta_diaria\n",
              " 0.608333      0.0\n",
              " 0.613333      0.0\n",
              " 0.618333      0.0\n",
              " 0.623333      0.0\n",
              " 0.625000      0.0\n",
              "             ...  \n",
              " 3.940000      0.0\n",
              " 3.945000    100.0\n",
              " 3.953333      0.0\n",
              " 3.955000      0.0\n",
              " 3.958333      0.0\n",
              " Name: churn_rate, Length: 1585, dtype: float64,\n",
              " servicios_contratados\n",
              " 1    10.917722\n",
              " 2    30.966240\n",
              " 3    44.917258\n",
              " 4    36.476684\n",
              " 5    31.344902\n",
              " 6    25.550661\n",
              " 7    22.485207\n",
              " 8    12.405063\n",
              " 9     5.288462\n",
              " Name: churn_rate, dtype: float64]"
            ]
          },
          "metadata": {},
          "execution_count": 56
        }
      ]
    },
    {
      "cell_type": "markdown",
      "source": [
        "###Recuento de evasión por categoría"
      ],
      "metadata": {
        "id": "W366DkJaQM9O"
      }
    },
    {
      "cell_type": "markdown",
      "source": [
        "####Gráficos de barras con Matplotly"
      ],
      "metadata": {
        "id": "e0w3XDYcQgl9"
      }
    },
    {
      "cell_type": "markdown",
      "source": [
        "####Gráficos de puntos con [Seaborn](https://seaborn.pydata.org/tutorial/categorical.html)\n",
        "Se realizaron gráficos de puntos para las **variables de negocio** `PaymentMethod`, `Contract` y `PaperlessBilling` en combinación con las **variables demográficas** `gender`, `SeniorCitizen`, `Partner` y `Dependents`."
      ],
      "metadata": {
        "id": "u-moEn9JQkD6"
      }
    },
    {
      "cell_type": "markdown",
      "source": [
        "#####Gráficos de la variable Gender"
      ],
      "metadata": {
        "id": "vRjiC0_nf2O_"
      }
    },
    {
      "cell_type": "markdown",
      "source": [
        "#####Gráficos de la variable SeniorCitizen"
      ],
      "metadata": {
        "id": "9xcFICUgf7fc"
      }
    },
    {
      "cell_type": "markdown",
      "source": [
        "#####Gráficos de la variable Partner"
      ],
      "metadata": {
        "id": "deI2pWqAgMQ0"
      }
    },
    {
      "cell_type": "markdown",
      "source": [
        "#####Gráficos de la variable Dependents"
      ],
      "metadata": {
        "id": "1nWKaiQsgcEq"
      }
    },
    {
      "cell_type": "markdown",
      "source": [
        "###Conteo de evasión por variable numérica"
      ],
      "metadata": {
        "id": "vDGblt5tRAlv"
      }
    },
    {
      "cell_type": "markdown",
      "source": [
        "####Gráficos de cajas y bigotes con Plotly"
      ],
      "metadata": {
        "id": "NssatTlDROwk"
      }
    },
    {
      "cell_type": "markdown",
      "source": [
        "####Gráficos de líneas con Plotly\n",
        "Se realizaron gráficos de lineas de la `probabilidad churn` en función de **variables numéricas** como `tenure`, `cuenta_diaria` y `servicios_contratados`."
      ],
      "metadata": {
        "id": "i6BNgEdTSUBD"
      }
    },
    {
      "cell_type": "markdown",
      "source": [
        "#####Gráfico de la variable tenure"
      ],
      "metadata": {
        "id": "4GJfXwx-g2TJ"
      }
    },
    {
      "cell_type": "markdown",
      "source": [
        "#####Gráfico de la variable cuenta_diaria"
      ],
      "metadata": {
        "id": "v1L0XbjMg8NA"
      }
    },
    {
      "cell_type": "markdown",
      "source": [
        "#####Gráfico de la variable servicios_contratados"
      ],
      "metadata": {
        "id": "eJLOhNt-hAbX"
      }
    },
    {
      "cell_type": "markdown",
      "source": [
        "###Gráficos de dispersión y correlación"
      ],
      "metadata": {
        "id": "-g8J4xitRx-h"
      }
    },
    {
      "cell_type": "markdown",
      "source": [
        "####Correlación entre % Churn y Tenure"
      ],
      "metadata": {
        "id": "A6xfO2HtSgVw"
      }
    },
    {
      "cell_type": "markdown",
      "source": [
        "####Correlación entre % Churn y Cuenta diaria"
      ],
      "metadata": {
        "id": "9k4GLEb6SZG0"
      }
    },
    {
      "cell_type": "markdown",
      "source": [
        "####Correlación entre % Churn y Cantidad de servicios contratados"
      ],
      "metadata": {
        "id": "36JmVaM_SkhA"
      }
    },
    {
      "cell_type": "markdown",
      "source": [
        "##📄Informe final"
      ],
      "metadata": {
        "id": "v-WzfSvTmaw9"
      }
    },
    {
      "cell_type": "code",
      "source": [],
      "metadata": {
        "id": "XMTac0YJmeK9"
      },
      "execution_count": 48,
      "outputs": []
    }
  ]
}